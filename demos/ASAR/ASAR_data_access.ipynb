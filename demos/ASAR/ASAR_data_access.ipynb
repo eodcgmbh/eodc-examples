{
 "cells": [
  {
   "cell_type": "markdown",
   "metadata": {},
   "source": [
    "# Accessing Level-1 and ARD (A)SAR Data from ERS-1/2 and ENVISAT\n",
    "\n",
    "This notebook serves as a guide for accessing and downloading the ERS/Envisat (A)SAR Level-1 and ARD datasets. These datasets are made available through the EODC STAC API and Data Access Service, enabling open and free access to end users. The primary goal is to increase the visibility and usability of heritage Earth observation data from the ERS and Envisat missions. This guide will walk you through the steps for discovering, accessing, and downloading the data.\n",
    "\n",
    "In accordance with ESA's data sharing policy and **terms and conditions**, users must accept the ESA data license to access and download the data."
   ]
  },
  {
   "cell_type": "markdown",
   "metadata": {},
   "source": [
    "## Prerequisites\n",
    "\n",
    "Before we dive into the data discovery process, let's ensure we have all the necessary libraries installed and imported. We'll be using `pystac-client` for interacting with the STAC API and `requests` for handling HTTP requests.\n",
    "\n",
    "### Make Sure the Following Libraries are Installed\n",
    "\n",
    "Ensure that you have the following libraries installed in your Python environment:\n",
    "\n",
    "- `pystac-client`\n",
    "- `requests`\n",
    "\n",
    "### Import Libraries\n",
    "\n"
   ]
  },
  {
   "cell_type": "code",
   "execution_count": 1,
   "metadata": {},
   "outputs": [],
   "source": [
    "import requests\n",
    "from pystac_client import Client"
   ]
  },
  {
   "cell_type": "markdown",
   "metadata": {},
   "source": [
    "## Step 1: Data Discovery\n",
    "\n",
    "In this section, we will explore how to discover the ERS/Envisat (A)SAR Level-1 and ARD datasets using the EODC STAC API. The EODC STAC API allows users to search for specific data collections and items, view metadata, and obtain URLs for individual assets.\n",
    "\n",
    "To get started, we use the `Client` class to connect to the EODC STAC API endpoint, i.e., https://stac.eodc.eu/api/v1."
   ]
  },
  {
   "cell_type": "code",
   "execution_count": null,
   "metadata": {},
   "outputs": [
    {
     "name": "stdout",
     "output_type": "stream",
     "text": [
      "\n",
      "Items in Collection 'ASA_IMP_1P':\n",
      "- ASA_IMP_1PREOD20021031_205825_000000342010_00444_03504_0000\n",
      "- ASA_IMP_1PREOD20021022_092004_000000472010_00308_03368_0000\n",
      "- ASA_IMP_1PREOD20021018_094556_000000542010_00251_03311_0000\n",
      "\n",
      "Assets for Item 'ASA_IMP_1PREOD20021031_205825_000000342010_00444_03504_0000':\n",
      "- sip: https://data.eodc.eu/collections/ASA_IMP_1P/imp/EN1_REOD_ASA_IMP_1P_20021031T205825_20021031T205900_003504_0444_0981_20230513T142317_v0101.ZIP/ASA_IMP_1PREOD20021031_205825_000000342010_00444_03504_0000.SI.XML\n",
      "- eosip-zip: https://data.eodc.eu/collections/ASA_IMP_1P/imp/EN1_REOD_ASA_IMP_1P_20021031T205825_20021031T205900_003504_0444_0981_20230513T142317_v0101.ZIP\n",
      "- thumbnail: https://data.eodc.eu/collections/ASA_IMP_1P/imp/EN1_REOD_ASA_IMP_1P_20021031T205825_20021031T205900_003504_0444_0981_20230513T142317_v0101.ZIP/ASA_IMP_1PREOD20021031_205825_000000342010_00444_03504_0000.BI.JPG\n",
      "- eo-product: https://data.eodc.eu/collections/ASA_IMP_1P/imp/EN1_REOD_ASA_IMP_1P_20021031T205825_20021031T205900_003504_0444_0981_20230513T142317_v0101.ZIP/ASA_IMP_1PREOD20021031_205825_000000342010_00444_03504_0000.N1\n",
      "- eo-metadata: https://data.eodc.eu/collections/ASA_IMP_1P/imp/EN1_REOD_ASA_IMP_1P_20021031T205825_20021031T205900_003504_0444_0981_20230513T142317_v0101.ZIP/ASA_IMP_1PREOD20021031_205825_000000342010_00444_03504_0000.MD.XML\n"
     ]
    }
   ],
   "source": [
    "# Define the API URL\n",
    "api_url = \"https://stac.eodc.eu/api/v1\"\n",
    "\n",
    "# Define the STAC collection ID \n",
    "collection_id = \"ASA_IMP_1P\" # Other available collection IDs: \"SAR_IMP_1P\", \"SAR_IMS_1P\", \"ASA_IMS_1P\", \"ERS_ENVISAT_NRB\"\n",
    "\n",
    "# Define the area of interest (AOI) as a bounding box\n",
    "bbox = [9.25, 46.31, 17.46, 49.18]\n",
    "\n",
    "# Define the time range for the search\n",
    "time_range = \"2002-01-01/2002-10-31\"\n",
    "\n",
    "# Open the STAC catalog using the specified API URL\n",
    "eodc_catalog = Client.open(api_url)\n",
    "\n",
    "# Perform a search in the catalog with the specified parameters\n",
    "search = eodc_catalog.search(\n",
    "    max_items=5,                # Maximum number of items to return\n",
    "    collections=collection_id,  # The collection to search within\n",
    "    bbox=bbox,                  # The area of interest\n",
    "    datetime=time_range         # The time range for the search\n",
    ")\n",
    "\n",
    "# Collect the found items into an item collection\n",
    "items = search.item_collection()\n",
    "\n",
    "print(f\"\\nItems in Collection '{collection_id}':\")\n",
    "for item in items:\n",
    "    print(f\"- {item.id}\")\n",
    "\n",
    "# Obtain Asset URLs for a specific item\n",
    "item_id = \"ASA_IMP_1PREOD20021031_205825_000000342010_00444_03504_0000\"\n",
    "item = eodc_catalog.get_collection(collection_id).get_item(item_id)\n",
    "print(f\"\\nAssets for Item '{item_id}':\")\n",
    "for asset_key, asset in item.assets.items():\n",
    "    print(f\"- {asset_key}: {asset.href}\")"
   ]
  },
  {
   "cell_type": "markdown",
   "metadata": {},
   "source": [
    "## Step 2: Data Access Service\n",
    "\n",
    "In this step, we will generate a signed URL using the Data Access Service. This ensures compliance with ESA's data sharing policy and terms and conditions.\n",
    "\n",
    "### Generate Signed URL\n",
    "\n",
    "To generate a signed URL, we need to send a POST request to the Data Access Service endpoint with the required query parameters. We'll use the `requests` library for this purpose.\n",
    "\n",
    "**Note:** The Data Access Service URL accepts ESA's terms and conditions here, hence the last endpoint `/ESA`."
   ]
  },
  {
   "cell_type": "code",
   "execution_count": 3,
   "metadata": {},
   "outputs": [
    {
     "name": "stdout",
     "output_type": "stream",
     "text": [
      "\n",
      "Signed URL: https://data.eodc.eu/collections/ASA_IMP_1P/imp/EN1_REOD_ASA_IMP_1P_20021031T205825_20021031T205900_003504_0444_0981_20230513T142317_v0101.ZIP/ASA_IMP_1PREOD20021031_205825_000000342010_00444_03504_0000.N1?x-hda-expire=20250224T145135&x-hda-sid=67aac23af2f7b6d9&x-hda-uid=NzBMTmQ2MTZaMFlhaXZ1eXRTSUx1YmhtTUNoVFlEVHI=&x-hda-signature=b3e651a43be609e34e465312cc006b4c26e02ac46bc7a00c974adc783349b954\n"
     ]
    }
   ],
   "source": [
    "# Define the Data Access Service URL and the required parameters\n",
    "data_access_service_url = \"https://access.dev.services.eodc.eu/termsandconditions/ESA\"\n",
    "hda_url = item.assets[\"eo-product\"].href\n",
    "esa_license_url = \"https://earth.esa.int/eogateway/terms-and-conditions\"\n",
    "payload = {\n",
    "    \"hda_url\": hda_url,\n",
    "    \"esa_license\": esa_license_url,\n",
    "    \"accept_esa_license\": \"yes\"\n",
    "}\n",
    "\n",
    "# Send a POST request to generate the signed URL\n",
    "response = requests.post(data_access_service_url, params=payload)\n",
    "signed_url = response.json()[\"signed_urls\"][0]\n",
    "print(f\"\\nSigned URL: {signed_url}\")"
   ]
  },
  {
   "cell_type": "markdown",
   "metadata": {},
   "source": [
    "## Step 3: Data Downloading\n",
    "\n",
    "In this final step, we will use the signed URL to download the data. The signed URL is valid for 3 days from its generation, as indicated by the \"x-hda-expire\" parameter.\n",
    "\n",
    "### Download Data\n",
    "\n",
    "To download the data, we will use the `requests` library to send a GET request to the signed URL and save the response content to a file."
   ]
  },
  {
   "cell_type": "code",
   "execution_count": 6,
   "metadata": {},
   "outputs": [
    {
     "name": "stdout",
     "output_type": "stream",
     "text": [
      "\n",
      "Data downloaded and saved as '/tmp/ASA_IMP_1PREOD20021031_205825_000000342010_00444_03504_0000.N1'\n"
     ]
    }
   ],
   "source": [
    "# Define the output filename\n",
    "output_filename = \"/tmp/ASA_IMP_1PREOD20021031_205825_000000342010_00444_03504_0000.N1\"\n",
    "\n",
    "# Send a GET request to the signed URL and save the response content to a file\n",
    "response = requests.get(signed_url)\n",
    "with open(output_filename, 'wb') as f:\n",
    "    f.write(response.content)\n",
    "\n",
    "print(f\"\\nData downloaded and saved as '{output_filename}'\")"
   ]
  },
  {
   "cell_type": "markdown",
   "metadata": {},
   "source": [
    "### Handling Expired URLs\n",
    "\n",
    "If the signed URL expires, you can generate a new one by repeating Step 2. Simply send another POST request to the Data Access Service endpoint to obtain a new signed URL."
   ]
  }
 ],
 "metadata": {
  "kernelspec": {
   "display_name": "venv",
   "language": "python",
   "name": "python3"
  },
  "language_info": {
   "codemirror_mode": {
    "name": "ipython",
    "version": 3
   },
   "file_extension": ".py",
   "mimetype": "text/x-python",
   "name": "python",
   "nbconvert_exporter": "python",
   "pygments_lexer": "ipython3",
   "version": "3.11.7"
  }
 },
 "nbformat": 4,
 "nbformat_minor": 2
}
