{
 "cells": [
  {
   "cell_type": "markdown",
   "metadata": {},
   "source": [
    "# GFM data discovery and download"
   ]
  },
  {
   "cell_type": "markdown",
   "metadata": {},
   "source": [
    "In this notebook, we demonstrate how to query the GFM STAC collection and\n",
    "download the found results using the Python library \"pystac_client\" together \n",
    "with a time and area of interest. \n",
    "\n",
    "In the STAC items a link to the respective asset (=file) is saved. This link is\n",
    "used to download the file to a specified folder on the local machine."
   ]
  },
  {
   "cell_type": "code",
   "execution_count": null,
   "metadata": {},
   "outputs": [],
   "source": [
    "# Some needed imports\n",
    "import rich.table\n",
    "from datetime import datetime\n",
    "from pystac_client import Client\n",
    "from rich.console import Console\n",
    "from shapely.geometry import box\n",
    "\n",
    "console = Console()"
   ]
  },
  {
   "cell_type": "markdown",
   "metadata": {},
   "source": [
    "### Specify search query"
   ]
  },
  {
   "cell_type": "code",
   "execution_count": null,
   "metadata": {},
   "outputs": [],
   "source": [
    "# STAC endpoint\n",
    "api_url = \"https://dev.stac.eodc.eu/api/v1\"\n",
    "\n",
    "# STAC collection ID\n",
    "collection_id = \"GFM\"\n",
    "\n",
    "# Time range\n",
    "time_range = (datetime(2022, 6, 1), datetime(2022, 6, 15))\n",
    "\n",
    "# Area of interest\n",
    "aoi = box(67, 23, 70, 29)\n",
    "\n",
    "eodc_catalog = Client.open(api_url)\n",
    "\n",
    "search = eodc_catalog.search(\n",
    "    max_items=1000,\n",
    "    collections=collection_id,\n",
    "    intersects=aoi,\n",
    "    datetime=time_range\n",
    ")\n",
    "\n",
    "items_eodc = search.item_collection()\n",
    "console.print(f\"On EODC we found {len(items_eodc)} items for the given search query\")"
   ]
  },
  {
   "cell_type": "markdown",
   "metadata": {},
   "source": [
    "### Some information about the found STAC items"
   ]
  },
  {
   "cell_type": "code",
   "execution_count": null,
   "metadata": {},
   "outputs": [],
   "source": [
    "table = rich.table.Table(title=\"Assets in STAC Item\")\n",
    "table.add_column(\"Asset Key\", style=\"cyan\", no_wrap=True)\n",
    "table.add_column(\"Description\")\n",
    "table.add_column(\"No Data Value\")\n",
    "table.add_column(\"Spatial resolution\")\n",
    "for asset_key, asset in items_eodc[0].assets.items():\n",
    "    table.add_row(\n",
    "        asset_key, \n",
    "        asset.title, \n",
    "        str(asset.extra_fields[\"raster:bands\"][0][\"nodata\"]), \n",
    "        str(asset.extra_fields[\"raster:bands\"][0][\"spatial_resolution\"]))\n",
    "\n",
    "console.print(table)"
   ]
  },
  {
   "cell_type": "markdown",
   "metadata": {},
   "source": [
    "### Download data"
   ]
  },
  {
   "cell_type": "code",
   "execution_count": null,
   "metadata": {},
   "outputs": [],
   "source": [
    "import os\n",
    "import urllib\n",
    "\n",
    "download_root_path = \"./downloaded_data/\"\n",
    "\n",
    "for item in items_eodc[:10]:\n",
    "    download_path = os.path.join(download_root_path, item.collection_id, item.id)\n",
    "    \n",
    "    os.makedirs(download_path, exist_ok=True)\n",
    "    \n",
    "    for name, asset in item.assets.items():\n",
    "        fpath = os.path.join(download_path, os.path.basename(asset.href))\n",
    "        print(f\"Downlading {fpath}\")\n",
    "        urllib.request.urlretrieve(asset.href, fpath)\n",
    "\n",
    "print(\"Download done!\")"
   ]
  }
 ],
 "metadata": {
  "kernelspec": {
   "display_name": ".venv",
   "language": "python",
   "name": "python3"
  },
  "language_info": {
   "codemirror_mode": {
    "name": "ipython",
    "version": 3
   },
   "file_extension": ".py",
   "mimetype": "text/x-python",
   "name": "python",
   "nbconvert_exporter": "python",
   "pygments_lexer": "ipython3",
   "version": "3.11.5"
  }
 },
 "nbformat": 4,
 "nbformat_minor": 2
}
