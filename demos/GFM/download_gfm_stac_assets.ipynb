{
 "cells": [
  {
   "cell_type": "markdown",
   "metadata": {},
   "source": [
    "# GFM data discovery and download using CLI"
   ]
  },
  {
   "cell_type": "markdown",
   "metadata": {},
   "source": [
    "In this notebook, we demonstrate how to \n",
    "1. query the GFM STAC collection \n",
    "2. download matched STAC items\n",
    "\n",
    "using the command line tool \"stac-asset\" \n",
    "(https://github.com/stac-utils/stac-asset)"
   ]
  },
  {
   "cell_type": "markdown",
   "metadata": {},
   "source": [
    "### Install required packages into a python environment"
   ]
  },
  {
   "cell_type": "code",
   "execution_count": null,
   "metadata": {},
   "outputs": [],
   "source": [
    "!pip install 'stac-asset[cli]'"
   ]
  },
  {
   "cell_type": "code",
   "execution_count": null,
   "metadata": {},
   "outputs": [],
   "source": [
    "!pip install pystac-client"
   ]
  },
  {
   "cell_type": "markdown",
   "metadata": {},
   "source": [
    "Necessary input arguments\n",
    "- STAC API URL      \n",
    "  - https://dev.stac.eodc.eu/api/v1\n",
    "- Collection ID\n",
    "  - GFM\n",
    "- Bounding box      \n",
    "  - 67 23 70 29 (minX, minY, maxX, maxY)\n",
    "- Time range        \n",
    "  - 2022-06-01/2022-06-15"
   ]
  },
  {
   "cell_type": "markdown",
   "metadata": {},
   "source": [
    "### List number of matched STAC items"
   ]
  },
  {
   "cell_type": "code",
   "execution_count": null,
   "metadata": {},
   "outputs": [],
   "source": [
    "!stac-client search https://dev.stac.eodc.eu/api/v1 -c GFM --bbox 67 23 70 29 --datetime 2022-06-01/2022-06-15 --matched"
   ]
  },
  {
   "cell_type": "markdown",
   "metadata": {},
   "source": [
    "### Save found STAC items (JSON) into items.json"
   ]
  },
  {
   "cell_type": "code",
   "execution_count": null,
   "metadata": {},
   "outputs": [],
   "source": [
    "!stac-client search https://dev.stac.eodc.eu/api/v1 -c GFM --bbox 67 23 70 29 --datetime 2022-06-01/2022-06-15 --save items.json"
   ]
  },
  {
   "cell_type": "markdown",
   "metadata": {},
   "source": [
    "### Download flood_extent asset of found STAC items into a given directory"
   ]
  },
  {
   "cell_type": "code",
   "execution_count": null,
   "metadata": {},
   "outputs": [],
   "source": [
    "!stac-asset download -i flood_extent items.json ./stac_asset_download"
   ]
  },
  {
   "cell_type": "markdown",
   "metadata": {},
   "source": [
    "### Pipe query results directly into download command"
   ]
  },
  {
   "cell_type": "code",
   "execution_count": null,
   "metadata": {},
   "outputs": [],
   "source": [
    "!mkdir stac_asset_download\n",
    "!cd stac_asset_download; stac-client search https://dev.stac.eodc.eu/api/v1 -c GFM --bbox 67 23 70 29 --datetime 2022-06-01/2022-06-15 | stac-asset download -i flood_extent"
   ]
  }
 ],
 "metadata": {
  "kernelspec": {
   "display_name": ".venv",
   "language": "python",
   "name": "python3"
  },
  "language_info": {
   "codemirror_mode": {
    "name": "ipython",
    "version": 3
   },
   "file_extension": ".py",
   "mimetype": "text/x-python",
   "name": "python",
   "nbconvert_exporter": "python",
   "pygments_lexer": "ipython3",
   "version": "3.11.5"
  }
 },
 "nbformat": 4,
 "nbformat_minor": 2
}
