{
 "cells": [
  {
   "cell_type": "markdown",
   "metadata": {},
   "source": [
    "# Refine STAC query using filters\n",
    "\n",
    "In this notebook, we demonstrate how to refine the query against the GFM STAC\n",
    "catalogue using the [filter STAC API\n",
    "extension](https://github.com/stac-api-extensions/filter).\n",
    "\n",
    "The filter extension references behavior defined in the [OGC API - Features - Part 3: Filtering and the Common Query Language (CQL2)](https://github.com/opengeospatial/ogcapi-features/tree/master/extensions/filtering) and [Common Query Language (CQL2)](https://github.com/opengeospatial/ogcapi-features/blob/master/cql2/README.md) specifications.\n",
    "\n",
    "The following queryables and combinations thereof are used:\n",
    "- Equi7Tile\n",
    "- ratio_after_blob_removal\n",
    "- flooded_pixels\n",
    "- anomaly_detected\n",
    "- sensing_date\n",
    "\n",
    "More examples are shown [here](https://github.com/stac-api-extensions/filter?tab=readme-ov-file#examples)."
   ]
  },
  {
   "cell_type": "code",
   "execution_count": 26,
   "metadata": {},
   "outputs": [],
   "source": [
    "from pystac_client import Client\n",
    "\n",
    "api_url = \"https://stac.eodc.eu/api/v1\"\n",
    "eodc_catalog = Client.open(api_url)"
   ]
  },
  {
   "cell_type": "markdown",
   "metadata": {},
   "source": [
    "#### Filter for Equi7Tile"
   ]
  },
  {
   "cell_type": "code",
   "execution_count": null,
   "metadata": {},
   "outputs": [],
   "source": [
    "filt = {\n",
    "    \"op\": \"eq\",\n",
    "    \"args\": [\n",
    "        {\"property\": \"Equi7Tile\"}, \"AS020M_E045N012T3\"\n",
    "    ]\n",
    "}\n",
    "\n",
    "search = eodc_catalog.search(collections=\"GFM\", filter=filt)\n",
    "\n",
    "print(\"We found\", search.matched(), \"items, that match our filter criteria.\")"
   ]
  },
  {
   "cell_type": "markdown",
   "metadata": {},
   "source": [
    "#### Filter for ratio_after_blob_removal"
   ]
  },
  {
   "cell_type": "code",
   "execution_count": null,
   "metadata": {},
   "outputs": [],
   "source": [
    "filt = {\n",
    "    \"op\": \"gt\",\n",
    "    \"args\": [\n",
    "        {\"property\": \"ratio_after_blob_removal\"}, 0.9\n",
    "    ]\n",
    "}\n",
    "\n",
    "search = eodc_catalog.search(collections=\"GFM\", filter=filt)\n",
    "\n",
    "print(\"We found\", search.matched(), \"items, that match our filter criteria.\")"
   ]
  },
  {
   "cell_type": "markdown",
   "metadata": {},
   "source": [
    "#### Filter for flooded_pixels"
   ]
  },
  {
   "cell_type": "code",
   "execution_count": null,
   "metadata": {},
   "outputs": [],
   "source": [
    "filt = {\n",
    "    \"op\": \"gt\",\n",
    "    \"args\": [\n",
    "        {\"property\": \"flooded_pixels\"}, 5000000\n",
    "    ]\n",
    "}\n",
    "\n",
    "search = eodc_catalog.search(collections=\"GFM\", filter=filt)\n",
    "\n",
    "print(\"We found\", search.matched(), \"items, that match our filter criteria.\")"
   ]
  },
  {
   "cell_type": "markdown",
   "metadata": {},
   "source": [
    "#### Filter for anomaly_detected\n",
    "Currently, this property is not available, but will be added soon!"
   ]
  },
  {
   "cell_type": "code",
   "execution_count": null,
   "metadata": {},
   "outputs": [],
   "source": [
    "filt = {\n",
    "    \"op\": \"eq\",\n",
    "    \"args\": [\n",
    "        {\"property\": \"anomaly_detected\"}, True\n",
    "    ]\n",
    "}\n",
    "\n",
    "search = eodc_catalog.search(collections=\"GFM\", filter=filt)\n",
    "\n",
    "print(\"We found\", search.matched(), \"items, that match our filter criteria.\")"
   ]
  },
  {
   "cell_type": "markdown",
   "metadata": {},
   "source": [
    "#### Combinations of queryables"
   ]
  },
  {
   "cell_type": "code",
   "execution_count": null,
   "metadata": {},
   "outputs": [],
   "source": [
    "filt = {\n",
    "    \"op\": \"and\",\n",
    "    \"args\": [\n",
    "        {\n",
    "            \"op\": \"eq\",\n",
    "            \"args\": [\n",
    "                {\"property\": \"Equi7Tile\"}, \"AS020M_E045N012T3\"\n",
    "            ]\n",
    "        },\n",
    "        {\n",
    "            \"op\": \"gt\",\n",
    "            \"args\": [\n",
    "                {\"property\": \"ratio_after_blob_removal\"}, 0.7\n",
    "            ]\n",
    "        },\n",
    "    ]\n",
    "}\n",
    "\n",
    "search = eodc_catalog.search(collections=\"GFM\", filter=filt)\n",
    "\n",
    "print(\"We found\", search.matched(), \"items, that match our filter criteria.\")"
   ]
  },
  {
   "cell_type": "markdown",
   "metadata": {},
   "source": [
    "#### List ID of found items"
   ]
  },
  {
   "cell_type": "code",
   "execution_count": null,
   "metadata": {},
   "outputs": [],
   "source": [
    "for item in search.item_collection():\n",
    "    print(item.id)"
   ]
  }
 ],
 "metadata": {
  "kernelspec": {
   "display_name": "eodc_cluster",
   "language": "python",
   "name": "python3"
  },
  "language_info": {
   "codemirror_mode": {
    "name": "ipython",
    "version": 3
   },
   "file_extension": ".py",
   "mimetype": "text/x-python",
   "name": "python",
   "nbconvert_exporter": "python",
   "pygments_lexer": "ipython3",
   "version": "3.11.9"
  }
 },
 "nbformat": 4,
 "nbformat_minor": 2
}
