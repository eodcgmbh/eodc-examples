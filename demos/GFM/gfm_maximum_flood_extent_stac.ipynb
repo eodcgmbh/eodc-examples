{
 "cells": [
  {
   "cell_type": "markdown",
   "metadata": {},
   "source": [
    "# Compute maximum flood extent utilizing STAC\n",
    "\n",
    "With this notebook, we want to demo how STAC can be used to find GFM\n",
    "ensemble_flood_extent data and derive the maximum flood extent from it."
   ]
  },
  {
   "cell_type": "code",
   "execution_count": 1,
   "metadata": {},
   "outputs": [],
   "source": [
    "# Some necessary imports\n",
    "\n",
    "from pystac_client import Client\n",
    "from datetime import datetime\n",
    "from odc import stac as odc_stac\n",
    "import pyproj\n",
    "import rioxarray # noqa\n",
    "import xarray as xr\n",
    "from shapely.geometry import box"
   ]
  },
  {
   "cell_type": "code",
   "execution_count": 2,
   "metadata": {},
   "outputs": [
    {
     "name": "stdout",
     "output_type": "stream",
     "text": [
      "We found 30 items, that match our filter criteria.\n"
     ]
    }
   ],
   "source": [
    "# Define asset name to use\n",
    "asset_name = \"ensemble_flood_extent\"\n",
    "\n",
    "# Define bounding box\n",
    "aoi = box(16.77, 49.91, 18.62, 51.25)\n",
    "\n",
    "# Define time range\n",
    "time_range = (datetime(2024, 9, 18), datetime(2024, 9, 28))\n",
    "\n",
    "# EODC STAC API URL\n",
    "api_url = \"https://stac.eodc.eu/api/v1\"\n",
    "eodc_catalog = Client.open(api_url)\n",
    "\n",
    "# Define search query using pystac_client\n",
    "search = eodc_catalog.search(\n",
    "    max_items=1000,\n",
    "    collections=\"GFM\",\n",
    "    intersects=aoi,\n",
    "    datetime=time_range\n",
    ")\n",
    "\n",
    "# Get all found items\n",
    "items = search.item_collection()\n",
    "print(\"We found\", len(items), \"items, that match our filter criteria.\")"
   ]
  },
  {
   "cell_type": "code",
   "execution_count": 3,
   "metadata": {},
   "outputs": [],
   "source": [
    "# Derive Equi7Grid CRS from first found item\n",
    "crs = pyproj.CRS.from_wkt(items[0].properties[\"proj:wkt2\"])\n",
    "\n",
    "# Load asset data into xarray using odc-stac\n",
    "# Adjust chunk size of x/y according to available RAM\n",
    "xx = odc_stac.load(\n",
    "    items, \n",
    "    bbox=aoi.bounds,\n",
    "    crs=crs,\n",
    "    bands=[\"ensemble_flood_extent\"],\n",
    "    dtype=\"uint8\",\n",
    "    chunks={\"x\": 5000, \"y\": 5000, \"time\": -1}, \n",
    "    resolution=20)"
   ]
  },
  {
   "cell_type": "markdown",
   "metadata": {},
   "source": [
    "Optionally, you can save the xarray as a ZARR data store for future use. It's important to note that the CRS (Coordinate Reference System) needs to be reapplied to the xarray after reading it."
   ]
  },
  {
   "cell_type": "code",
   "execution_count": 4,
   "metadata": {},
   "outputs": [],
   "source": [
    "# Optional: Save data as ZARR data store\n",
    "# xx.to_zarr(\"./maximum_flood_data/maximum_flood.zarr\")\n",
    "\n",
    "# Read data from ZARR data store \n",
    "# xx = xr.open_zarr(\"./maximum_flood_data/maximum_flood.zarr\")\n",
    "# xx.rio.write_crs(crs, inplace=True)"
   ]
  },
  {
   "cell_type": "code",
   "execution_count": 5,
   "metadata": {},
   "outputs": [],
   "source": [
    "# Mask out data which is nodata (255) and no-flood (0)\n",
    "xx = xx.where((xx != 255) & (xx != 0))\n",
    "\n",
    "# Calculate sum over time dimension\n",
    "data = xx.sum(dim=\"time\").astype(\"uint8\")\n",
    "\n",
    "# Save result in current CRS (Equi7Grid)\n",
    "data.ensemble_flood_extent.rio.to_raster(\"./maximum_flood_data/result_equi7.tif\", compress=\"LZW\")\n",
    "\n",
    "# Optional: Reproject data to WebMercator (EPSG:3857)\n",
    "data = data.rio.reproject(\"EPSG:3857\")\n",
    "data.ensemble_flood_extent.rio.to_raster(\"./maximum_flood_data/result_epsg3857.tif\", compress=\"LZW\")"
   ]
  }
 ],
 "metadata": {
  "kernelspec": {
   "display_name": "eodc_cluster",
   "language": "python",
   "name": "python3"
  },
  "language_info": {
   "codemirror_mode": {
    "name": "ipython",
    "version": 3
   },
   "file_extension": ".py",
   "mimetype": "text/x-python",
   "name": "python",
   "nbconvert_exporter": "python",
   "pygments_lexer": "ipython3",
   "version": "3.11.9"
  }
 },
 "nbformat": 4,
 "nbformat_minor": 2
}
