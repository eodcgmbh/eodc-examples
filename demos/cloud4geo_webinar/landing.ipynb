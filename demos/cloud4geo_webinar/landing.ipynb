{
 "cells": [
  {
   "cell_type": "markdown",
   "id": "4f14ada9-8400-438d-969b-46ba87aa6baa",
   "metadata": {},
   "source": [
    "<img src=\"https://d33wubrfki0l68.cloudfront.net/22691a3c3002324451ed99f4009de8aab761e1b7/d24da/public/images-original/stac-01.png\"\n",
    "     style=\"margin-right: 10px; width: 25%\"/>\n",
    "\n",
    "* STAC Index: https://stacindex.org/\n",
    "  \n",
    "* EODC STAC API: https://stac.eodc.eu/api/v1/\n",
    "  \n",
    "* EODC STAC Browser: https://services.eodc.eu/browser/ ( https://dev.services.eodc.eu/browser/ )\n",
    "\n",
    "* STAC Specification Website: https://stacspec.org/en\n",
    "\n",
    "* STAC Specification GitHub: https://github.com/radiantearth/stac-spec\n",
    "\n",
    "* STAC API Specification GitHub: https://github.com/radiantearth/stac-api-spec/\n",
    "\n",
    "* STAC API Item Search GitHub: https://github.com/radiantearth/stac-api-spec/tree/main/item-search\n",
    "\n",
    "* STAC API Extensions GitHub: https://stac-api-extensions.github.io/\n",
    "\n",
    "* STAC QGIS Plugin: https://github.com/stac-utils/qgis-stac-plugin\n",
    "\n",
    "* EODC Examples on GitHub: https://github.com/eodcgmbh/eodc-examples"
   ]
  }
 ],
 "metadata": {
  "kernelspec": {
   "display_name": "Python 3 (ipykernel)",
   "language": "python",
   "name": "python3"
  },
  "language_info": {
   "codemirror_mode": {
    "name": "ipython",
    "version": 3
   },
   "file_extension": ".py",
   "mimetype": "text/x-python",
   "name": "python",
   "nbconvert_exporter": "python",
   "pygments_lexer": "ipython3",
   "version": "3.11.6"
  }
 },
 "nbformat": 4,
 "nbformat_minor": 5
}
