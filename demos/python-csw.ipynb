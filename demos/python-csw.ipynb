{
 "cells": [
  {
   "cell_type": "markdown",
   "metadata": {},
   "source": [
    "# EODC Data Discovery via CSW"
   ]
  },
  {
   "cell_type": "code",
   "execution_count": 1,
   "metadata": {},
   "outputs": [],
   "source": [
    "# Import necessary libraries\n",
    "try:\n",
    "    from owslib.csw import CatalogueServiceWeb\n",
    "except ImportError:\n",
    "    %pip install owslib\n",
    "    from owslib.csw import CatalogueServiceWeb\n",
    "\n",
    "from owslib.fes import (\n",
    "    BBox,\n",
    "    PropertyIsBetween,\n",
    "    PropertyIsEqualTo,\n",
    "    PropertyIsGreaterThanOrEqualTo,\n",
    "    PropertyIsLessThan,\n",
    ")\n"
   ]
  },
  {
   "cell_type": "code",
   "execution_count": 2,
   "metadata": {},
   "outputs": [],
   "source": [
    "# Define parent identifiers, e.g., for Sentinel-2 L2A products, and properties related to dates in the CSW\n",
    "PARENT_IDENTIFIERS = [\n",
    "    \"s2a_prd_msil2a\",\n",
    "    \"s2b_prd_msil2a\",\n",
    "]\n",
    "\n",
    "DATE_PROPERTIES = [\n",
    "    \"apiso:CreationDate\",\n",
    "    \"apiso:PublicationDate\",\n",
    "    \"apiso:RevisionDate\",\n",
    "    \"apiso:TempExtent_begin\",\n",
    "    \"apiso:TempExtent_end\",\n",
    "]"
   ]
  },
  {
   "cell_type": "code",
   "execution_count": 3,
   "metadata": {},
   "outputs": [],
   "source": [
    "# Initialize CatalogueServiceWeb\n",
    "csw = CatalogueServiceWeb(\"https://csw.eodc.eu\") # if you experience issues, try to install older versions of requests and urllib, e.g., pip install --force-reinstall \"urllib3<2\" \"requests==2.31.0\""
   ]
  },
  {
   "cell_type": "code",
   "execution_count": 4,
   "metadata": {},
   "outputs": [],
   "source": [
    "# Define date property and time range\n",
    "date_property = DATE_PROPERTIES[3]\n",
    "start_time = \"2024-02-01T00:00:00.00Z\"\n",
    "end_time = \"2024-02-03T00:00:00.00Z\""
   ]
  },
  {
   "cell_type": "code",
   "execution_count": 5,
   "metadata": {},
   "outputs": [],
   "source": [
    "# Define additional constraints\n",
    "constraints_additional = []\n",
    "\n",
    "# Add date constraints\n",
    "if start_time and end_time:\n",
    "    constraints_additional.append(\n",
    "        PropertyIsBetween(date_property, start_time, end_time)\n",
    "    )\n",
    "elif start_time:\n",
    "    constraints_additional.append(\n",
    "        PropertyIsGreaterThanOrEqualTo(date_property, start_time)\n",
    "    )\n",
    "elif end_time:\n",
    "    constraints_additional.append(PropertyIsLessThan(date_property, end_time))\n"
   ]
  },
  {
   "cell_type": "code",
   "execution_count": 6,
   "metadata": {},
   "outputs": [],
   "source": [
    "# Define bounding box and add it to constraints\n",
    "min_lat = -30\n",
    "max_lat = 30\n",
    "min_lon = 20\n",
    "max_lon = 50\n",
    "bbox_geom = BBox([min_lat, min_lon, max_lat, max_lon], crs=\"EPSG:4326\")\n",
    "\n",
    "constraints_additional.append(bbox_geom)"
   ]
  },
  {
   "cell_type": "code",
   "execution_count": 7,
   "metadata": {},
   "outputs": [],
   "source": [
    "# Define parent_identifier constraint\n",
    "constraints = []\n",
    "for pi in PARENT_IDENTIFIERS:\n",
    "    constraints.append(\n",
    "        [PropertyIsEqualTo(\"apiso:ParentIdentifier\", pi)] + constraints_additional\n",
    "    )\n"
   ]
  },
  {
   "cell_type": "code",
   "execution_count": 8,
   "metadata": {},
   "outputs": [],
   "source": [
    "# Define max. records to return and get records based on the filter\n",
    "max_records = 1000\n",
    "csw.getrecords2(constraints, maxrecords=max_records)\n",
    "records_s2 = csw.records"
   ]
  },
  {
   "cell_type": "code",
   "execution_count": 9,
   "metadata": {},
   "outputs": [],
   "source": [
    "# Convert records to a list of file paths.\n",
    "file_paths = []\n",
    "for record in records_s2.values():\n",
    "    refs = record.references\n",
    "    for ref in refs:\n",
    "        if isinstance(ref, dict) and \"offlineAccess\" in ref.values():\n",
    "            filepath = ref[\"url\"]\n",
    "            file_paths.append(filepath)"
   ]
  },
  {
   "cell_type": "code",
   "execution_count": 10,
   "metadata": {},
   "outputs": [
    {
     "name": "stdout",
     "output_type": "stream",
     "text": [
      "S2A_MSIL2A_20240202T074131_N0510_R092_T36KUE_20240202T111555\n",
      "S2A_MSIL2A_20240202T074131_N0510_R092_T36KUD_20240202T111555\n",
      "S2A_MSIL2A_20240202T074131_N0510_R092_T36NZH_20240202T105849\n",
      "S2A_MSIL2A_20240202T074131_N0510_R092_T36NZG_20240202T105849\n",
      "S2A_MSIL2A_20240202T074131_N0510_R092_T36KUB_20240202T111555\n",
      "S2A_MSIL2A_20240202T074131_N0510_R092_T36KWU_20240202T111555\n",
      "S2A_MSIL2A_20240202T074131_N0510_R092_T37NBE_20240202T105849\n",
      "S2A_MSIL2A_20240202T074131_N0510_R092_T37NEB_20240202T105849\n",
      "S2A_MSIL2A_20240202T074131_N0510_R092_T36KXE_20240202T111555\n",
      "S2A_MSIL2A_20240202T074131_N0510_R092_T36KVC_20240202T111555\n",
      "S2A_MSIL2A_20240202T074131_N0510_R092_T37NEC_20240202T105849\n",
      "S2A_MSIL2A_20240202T074131_N0510_R092_T36KWF_20240202T111555\n",
      "S2A_MSIL2A_20240202T074131_N0510_R092_T36KWG_20240202T111555\n",
      "S2A_MSIL2A_20240202T074131_N0510_R092_T37NCD_20240202T105849\n",
      "S2A_MSIL2A_20240202T074131_N0510_R092_T37NEE_20240202T105849\n",
      "S2A_MSIL2A_20240202T074131_N0510_R092_T37NED_20240202T105849\n",
      "S2A_MSIL2A_20240202T074131_N0510_R092_T36KUF_20240202T111555\n",
      "S2A_MSIL2A_20240202T074131_N0510_R092_T36JWT_20240202T111555\n",
      "S2A_MSIL2A_20240202T074131_N0510_R092_T36KUC_20240202T111555\n",
      "S2A_MSIL2A_20240202T074131_N0510_R092_T36JVT_20240202T111555\n",
      "S2A_MSIL2A_20240202T074131_N0510_R092_T36KVB_20240202T111555\n",
      "S2A_MSIL2A_20240202T074131_N0510_R092_T36KVD_20240202T111555\n",
      "S2A_MSIL2A_20240202T074131_N0510_R092_T36KVE_20240202T111555\n",
      "S2A_MSIL2A_20240202T074131_N0510_R092_T36KVF_20240202T111555\n",
      "S2A_MSIL2A_20240202T074131_N0510_R092_T36KVG_20240202T111555\n",
      "S2A_MSIL2A_20240202T074131_N0510_R092_T36KVU_20240202T111555\n",
      "S2A_MSIL2A_20240202T074131_N0510_R092_T36KWA_20240202T111555\n",
      "S2A_MSIL2A_20240202T074131_N0510_R092_T36KWB_20240202T111555\n",
      "S2A_MSIL2A_20240202T074131_N0510_R092_T36KXA_20240202T111555\n",
      "S2A_MSIL2A_20240202T074131_N0510_R092_T36KWV_20240202T111555\n",
      "S2A_MSIL2A_20240202T074131_N0510_R092_T36KWC_20240202T111555\n",
      "S2A_MSIL2A_20240202T074131_N0510_R092_T36KWD_20240202T111555\n",
      "S2A_MSIL2A_20240202T074131_N0510_R092_T36KWE_20240202T111555\n",
      "S2A_MSIL2A_20240202T074131_N0510_R092_T36KXB_20240202T111555\n",
      "S2A_MSIL2A_20240202T074131_N0510_R092_T36KXC_20240202T111555\n",
      "S2A_MSIL2A_20240202T074131_N0510_R092_T37NBF_20240202T105849\n",
      "S2A_MSIL2A_20240202T074131_N0510_R092_T36KXD_20240202T111555\n",
      "S2A_MSIL2A_20240202T074131_N0510_R092_T37NBC_20240202T105849\n",
      "S2A_MSIL2A_20240202T074131_N0510_R092_T37NBB_20240202T105849\n",
      "S2A_MSIL2A_20240202T074131_N0510_R092_T37NBD_20240202T105849\n",
      "S2A_MSIL2A_20240202T074131_N0510_R092_T37NCB_20240202T105849\n",
      "S2A_MSIL2A_20240202T074131_N0510_R092_T37NCC_20240202T105849\n",
      "S2A_MSIL2A_20240202T074131_N0510_R092_T37NCF_20240202T105849\n",
      "S2A_MSIL2A_20240202T074131_N0510_R092_T37NCE_20240202T105849\n",
      "S2A_MSIL2A_20240202T074131_N0510_R092_T37NDC_20240202T105849\n",
      "S2A_MSIL2A_20240202T074131_N0510_R092_T37NDB_20240202T105849\n",
      "S2A_MSIL2A_20240202T074131_N0510_R092_T37NDD_20240202T105849\n",
      "S2A_MSIL2A_20240202T074131_N0510_R092_T37NDE_20240202T105849\n",
      "S2A_MSIL2A_20240202T074131_N0510_R092_T37NDF_20240202T105849\n",
      "S2A_MSIL2A_20240202T074131_N0510_R092_T37NEF_20240202T105849\n"
     ]
    }
   ],
   "source": [
    "# Print the records\n",
    "for record_s2 in records_s2:\n",
    "    print(record_s2)\n"
   ]
  },
  {
   "cell_type": "code",
   "execution_count": 11,
   "metadata": {},
   "outputs": [
    {
     "name": "stdout",
     "output_type": "stream",
     "text": [
      "/eodc/products/copernicus.eu/s2a_prd_msil2a/2024/02/02/S2A_MSIL2A_20240202T074131_N0510_R092_T36KUE_20240202T111555.zip\n",
      "/eodc/products/copernicus.eu/s2a_prd_msil2a/2024/02/02/S2A_MSIL2A_20240202T074131_N0510_R092_T36KUD_20240202T111555.zip\n",
      "/eodc/products/copernicus.eu/s2a_prd_msil2a/2024/02/02/S2A_MSIL2A_20240202T074131_N0510_R092_T36NZH_20240202T105849.zip\n",
      "/eodc/products/copernicus.eu/s2a_prd_msil2a/2024/02/02/S2A_MSIL2A_20240202T074131_N0510_R092_T36NZG_20240202T105849.zip\n",
      "/eodc/products/copernicus.eu/s2a_prd_msil2a/2024/02/02/S2A_MSIL2A_20240202T074131_N0510_R092_T36KUB_20240202T111555.zip\n",
      "/eodc/products/copernicus.eu/s2a_prd_msil2a/2024/02/02/S2A_MSIL2A_20240202T074131_N0510_R092_T36KWU_20240202T111555.zip\n",
      "/eodc/products/copernicus.eu/s2a_prd_msil2a/2024/02/02/S2A_MSIL2A_20240202T074131_N0510_R092_T37NBE_20240202T105849.zip\n",
      "/eodc/products/copernicus.eu/s2a_prd_msil2a/2024/02/02/S2A_MSIL2A_20240202T074131_N0510_R092_T37NEB_20240202T105849.zip\n",
      "/eodc/products/copernicus.eu/s2a_prd_msil2a/2024/02/02/S2A_MSIL2A_20240202T074131_N0510_R092_T36KXE_20240202T111555.zip\n",
      "/eodc/products/copernicus.eu/s2a_prd_msil2a/2024/02/02/S2A_MSIL2A_20240202T074131_N0510_R092_T36KVC_20240202T111555.zip\n",
      "/eodc/products/copernicus.eu/s2a_prd_msil2a/2024/02/02/S2A_MSIL2A_20240202T074131_N0510_R092_T37NEC_20240202T105849.zip\n",
      "/eodc/products/copernicus.eu/s2a_prd_msil2a/2024/02/02/S2A_MSIL2A_20240202T074131_N0510_R092_T36KWF_20240202T111555.zip\n",
      "/eodc/products/copernicus.eu/s2a_prd_msil2a/2024/02/02/S2A_MSIL2A_20240202T074131_N0510_R092_T36KWG_20240202T111555.zip\n",
      "/eodc/products/copernicus.eu/s2a_prd_msil2a/2024/02/02/S2A_MSIL2A_20240202T074131_N0510_R092_T37NCD_20240202T105849.zip\n",
      "/eodc/products/copernicus.eu/s2a_prd_msil2a/2024/02/02/S2A_MSIL2A_20240202T074131_N0510_R092_T37NEE_20240202T105849.zip\n",
      "/eodc/products/copernicus.eu/s2a_prd_msil2a/2024/02/02/S2A_MSIL2A_20240202T074131_N0510_R092_T37NED_20240202T105849.zip\n",
      "/eodc/products/copernicus.eu/s2a_prd_msil2a/2024/02/02/S2A_MSIL2A_20240202T074131_N0510_R092_T36KUF_20240202T111555.zip\n",
      "/eodc/products/copernicus.eu/s2a_prd_msil2a/2024/02/02/S2A_MSIL2A_20240202T074131_N0510_R092_T36JWT_20240202T111555.zip\n",
      "/eodc/products/copernicus.eu/s2a_prd_msil2a/2024/02/02/S2A_MSIL2A_20240202T074131_N0510_R092_T36KUC_20240202T111555.zip\n",
      "/eodc/products/copernicus.eu/s2a_prd_msil2a/2024/02/02/S2A_MSIL2A_20240202T074131_N0510_R092_T36JVT_20240202T111555.zip\n",
      "/eodc/products/copernicus.eu/s2a_prd_msil2a/2024/02/02/S2A_MSIL2A_20240202T074131_N0510_R092_T36KVB_20240202T111555.zip\n",
      "/eodc/products/copernicus.eu/s2a_prd_msil2a/2024/02/02/S2A_MSIL2A_20240202T074131_N0510_R092_T36KVD_20240202T111555.zip\n",
      "/eodc/products/copernicus.eu/s2a_prd_msil2a/2024/02/02/S2A_MSIL2A_20240202T074131_N0510_R092_T36KVE_20240202T111555.zip\n",
      "/eodc/products/copernicus.eu/s2a_prd_msil2a/2024/02/02/S2A_MSIL2A_20240202T074131_N0510_R092_T36KVF_20240202T111555.zip\n",
      "/eodc/products/copernicus.eu/s2a_prd_msil2a/2024/02/02/S2A_MSIL2A_20240202T074131_N0510_R092_T36KVG_20240202T111555.zip\n",
      "/eodc/products/copernicus.eu/s2a_prd_msil2a/2024/02/02/S2A_MSIL2A_20240202T074131_N0510_R092_T36KVU_20240202T111555.zip\n",
      "/eodc/products/copernicus.eu/s2a_prd_msil2a/2024/02/02/S2A_MSIL2A_20240202T074131_N0510_R092_T36KWA_20240202T111555.zip\n",
      "/eodc/products/copernicus.eu/s2a_prd_msil2a/2024/02/02/S2A_MSIL2A_20240202T074131_N0510_R092_T36KWB_20240202T111555.zip\n",
      "/eodc/products/copernicus.eu/s2a_prd_msil2a/2024/02/02/S2A_MSIL2A_20240202T074131_N0510_R092_T36KXA_20240202T111555.zip\n",
      "/eodc/products/copernicus.eu/s2a_prd_msil2a/2024/02/02/S2A_MSIL2A_20240202T074131_N0510_R092_T36KWV_20240202T111555.zip\n",
      "/eodc/products/copernicus.eu/s2a_prd_msil2a/2024/02/02/S2A_MSIL2A_20240202T074131_N0510_R092_T36KWC_20240202T111555.zip\n",
      "/eodc/products/copernicus.eu/s2a_prd_msil2a/2024/02/02/S2A_MSIL2A_20240202T074131_N0510_R092_T36KWD_20240202T111555.zip\n",
      "/eodc/products/copernicus.eu/s2a_prd_msil2a/2024/02/02/S2A_MSIL2A_20240202T074131_N0510_R092_T36KWE_20240202T111555.zip\n",
      "/eodc/products/copernicus.eu/s2a_prd_msil2a/2024/02/02/S2A_MSIL2A_20240202T074131_N0510_R092_T36KXB_20240202T111555.zip\n",
      "/eodc/products/copernicus.eu/s2a_prd_msil2a/2024/02/02/S2A_MSIL2A_20240202T074131_N0510_R092_T36KXC_20240202T111555.zip\n",
      "/eodc/products/copernicus.eu/s2a_prd_msil2a/2024/02/02/S2A_MSIL2A_20240202T074131_N0510_R092_T37NBF_20240202T105849.zip\n",
      "/eodc/products/copernicus.eu/s2a_prd_msil2a/2024/02/02/S2A_MSIL2A_20240202T074131_N0510_R092_T36KXD_20240202T111555.zip\n",
      "/eodc/products/copernicus.eu/s2a_prd_msil2a/2024/02/02/S2A_MSIL2A_20240202T074131_N0510_R092_T37NBC_20240202T105849.zip\n",
      "/eodc/products/copernicus.eu/s2a_prd_msil2a/2024/02/02/S2A_MSIL2A_20240202T074131_N0510_R092_T37NBB_20240202T105849.zip\n",
      "/eodc/products/copernicus.eu/s2a_prd_msil2a/2024/02/02/S2A_MSIL2A_20240202T074131_N0510_R092_T37NBD_20240202T105849.zip\n",
      "/eodc/products/copernicus.eu/s2a_prd_msil2a/2024/02/02/S2A_MSIL2A_20240202T074131_N0510_R092_T37NCB_20240202T105849.zip\n",
      "/eodc/products/copernicus.eu/s2a_prd_msil2a/2024/02/02/S2A_MSIL2A_20240202T074131_N0510_R092_T37NCC_20240202T105849.zip\n",
      "/eodc/products/copernicus.eu/s2a_prd_msil2a/2024/02/02/S2A_MSIL2A_20240202T074131_N0510_R092_T37NCF_20240202T105849.zip\n",
      "/eodc/products/copernicus.eu/s2a_prd_msil2a/2024/02/02/S2A_MSIL2A_20240202T074131_N0510_R092_T37NCE_20240202T105849.zip\n",
      "/eodc/products/copernicus.eu/s2a_prd_msil2a/2024/02/02/S2A_MSIL2A_20240202T074131_N0510_R092_T37NDC_20240202T105849.zip\n",
      "/eodc/products/copernicus.eu/s2a_prd_msil2a/2024/02/02/S2A_MSIL2A_20240202T074131_N0510_R092_T37NDB_20240202T105849.zip\n",
      "/eodc/products/copernicus.eu/s2a_prd_msil2a/2024/02/02/S2A_MSIL2A_20240202T074131_N0510_R092_T37NDD_20240202T105849.zip\n",
      "/eodc/products/copernicus.eu/s2a_prd_msil2a/2024/02/02/S2A_MSIL2A_20240202T074131_N0510_R092_T37NDE_20240202T105849.zip\n",
      "/eodc/products/copernicus.eu/s2a_prd_msil2a/2024/02/02/S2A_MSIL2A_20240202T074131_N0510_R092_T37NDF_20240202T105849.zip\n",
      "/eodc/products/copernicus.eu/s2a_prd_msil2a/2024/02/02/S2A_MSIL2A_20240202T074131_N0510_R092_T37NEF_20240202T105849.zip\n"
     ]
    }
   ],
   "source": [
    "# Get the file paths\n",
    "for filepath_2 in file_paths:\n",
    "    print(filepath_2)"
   ]
  }
 ],
 "metadata": {
  "kernelspec": {
   "display_name": "base",
   "language": "python",
   "name": "python3"
  },
  "language_info": {
   "codemirror_mode": {
    "name": "ipython",
    "version": 3
   },
   "file_extension": ".py",
   "mimetype": "text/x-python",
   "name": "python",
   "nbconvert_exporter": "python",
   "pygments_lexer": "ipython3",
   "version": "3.11.7"
  }
 },
 "nbformat": 4,
 "nbformat_minor": 2
}
