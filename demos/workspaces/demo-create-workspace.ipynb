{
 "cells": [
  {
   "cell_type": "markdown",
   "metadata": {},
   "source": [
    "## User Story: Create EODC Workspace\n",
    "\n",
    "John wants to create a user workspace at EODC, as he does not have a object-storage solution himself."
   ]
  },
  {
   "cell_type": "markdown",
   "metadata": {},
   "source": [
    "It's a very simple task to provision a workspace at EODC, provided that you are already an openEO user.\n",
    "\n",
    "All you need to do in order to create a workspace from scratch is call the /workspace/{WORKSPACE_NAME} endpoint\n",
    "in the openEO API and that's it."
   ]
  },
  {
   "cell_type": "code",
   "execution_count": null,
   "metadata": {},
   "outputs": [],
   "source": [
    "import openeo\n",
    "\n",
    "# Connect to the openEO backend and authenticate with EGI Check-In\n",
    "\n",
    "connection = openeo.connect(\"https://openeo-dev.eodc.eu/openeo/1.1.0\")\n",
    "connection = connection.authenticate_oidc(provider_id=\"egi\")"
   ]
  },
  {
   "cell_type": "code",
   "execution_count": null,
   "metadata": {},
   "outputs": [],
   "source": [
    "import requests\n",
    "\n",
    "WORKSPACE_NAME = \"\"\n",
    "\n",
    "response = requests.post(\n",
    "    url=f\"https://openeo-dev.eodc.eu/openeo/1.1.0/workspace/{WORKSPACE_NAME}\",\n",
    "    headers={\n",
    "        \"authorization\": f\"Bearer {connection.auth.bearer}\"\n",
    "    },\n",
    ")"
   ]
  },
  {
   "cell_type": "markdown",
   "metadata": {},
   "source": [
    "The responses content will contain your s3 credentials which you can then use to interact with your newly created workspace."
   ]
  },
  {
   "cell_type": "code",
   "execution_count": null,
   "metadata": {},
   "outputs": [],
   "source": [
    "response.content"
   ]
  }
 ],
 "metadata": {
  "kernelspec": {
   "display_name": ".venv",
   "language": "python",
   "name": "python3"
  },
  "language_info": {
   "codemirror_mode": {
    "name": "ipython",
    "version": 3
   },
   "file_extension": ".py",
   "mimetype": "text/x-python",
   "name": "python",
   "nbconvert_exporter": "python",
   "pygments_lexer": "ipython3",
   "version": "3.10.12"
  }
 },
 "nbformat": 4,
 "nbformat_minor": 2
}
