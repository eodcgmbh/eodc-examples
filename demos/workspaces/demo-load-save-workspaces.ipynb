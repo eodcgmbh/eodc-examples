{
 "cells": [
  {
   "cell_type": "markdown",
   "metadata": {},
   "source": [
    "## Workspaces Demo (OUTDATED)\n",
    "\n",
    "NOTE: This notebook is outdated, as it has been superceded by the\n",
    "individual loading and saving notebooks.\n",
    "\n",
    "This notebook will demonstrate how to register a worksapce, save results of a process graph to a workspace\n",
    "and load those results in a new process graph. The process graph will be executed on the EODC openEO backend. "
   ]
  },
  {
   "cell_type": "code",
   "execution_count": null,
   "metadata": {},
   "outputs": [],
   "source": [
    "import openeo\n",
    "\n",
    "# Set these variables to your own values if you intent to skip step 0 so you can run this code!\n",
    "\n",
    "WORKSPACE_NAME = '' # Corresponds to your bucket name in whatever S3 endpoint you are using\n",
    "\n",
    "# Connect to the openEO backend and authenticate with EGI Check-In\n",
    "\n",
    "connection = openeo.connect(\"https://openeo.eodc.eu/openeo/1.1.0\")\n",
    "connection = connection.authenticate_oidc(provider_id=\"egi\")"
   ]
  },
  {
   "cell_type": "markdown",
   "metadata": {},
   "source": [
    "## (optional) Step 0: Create a workspace @ EODC if you don't have your own.\n",
    "\n",
    "For this we will send a post request to the /workspaces/{workspace_name} endpoint,\n",
    "with the body containing the workspace configuration as seen in the example below.\n",
    "\n",
    "#### IMPORTANT\n",
    "\n",
    "if you have your own bucket/blob you do not need to create a workspace @ EODC,\n",
    "instead you can skip to step 1 "
   ]
  },
  {
   "cell_type": "code",
   "execution_count": null,
   "metadata": {},
   "outputs": [],
   "source": [
    "import requests\n",
    "\n",
    "int_ws = {\n",
    "    \"preferred_name\": WORKSPACE_NAME,\n",
    "}\n",
    "\n",
    "\n",
    "response = requests.post(\n",
    "    url=\"https://openeo.eodc.eu/openeo/1.1.0/workspaces\",\n",
    "    json=int_ws,\n",
    "    headers={\n",
    "        \"authorization\": f\"Bearer {connection.auth.bearer}\"\n",
    "    },\n",
    ")\n",
    "\n",
    "response.content"
   ]
  },
  {
   "cell_type": "code",
   "execution_count": null,
   "metadata": {},
   "outputs": [],
   "source": [
    "import requests\n",
    "\n",
    "\n",
    "\n",
    "response = requests.get(\n",
    "    url=\"https://openeo.eodc.eu/openeo/1.1.0/workspaces/user\",\n",
    "    headers={\n",
    "        \"authorization\": f\"Bearer {connection.auth.bearer}\"\n",
    "    },\n",
    ")\n",
    "\n",
    "response.content"
   ]
  },
  {
   "cell_type": "code",
   "execution_count": null,
   "metadata": {},
   "outputs": [],
   "source": [
    "# Enter your received credentials here for later!\n",
    "\n",
    "S3_ENDPOINT = \"\"\n",
    "S3_ACCESS_KEY = \"\"\n",
    "S3_SECRET_KEY = \"\""
   ]
  },
  {
   "cell_type": "markdown",
   "metadata": {},
   "source": [
    "## Step 1: Register an external workspace with the EODC backend.\n",
    "\n",
    "For this we will send a post request to the /workspaces/{workspace_name}/register endpoint,\n",
    "with the body containing the workspace configuration as seen in the example below.\n",
    "\n",
    "You can skip this step if you did step 0"
   ]
  },
  {
   "cell_type": "code",
   "execution_count": null,
   "metadata": {},
   "outputs": [],
   "source": [
    "import requests\n",
    "\n",
    "ext_ws = {\n",
    "    \"storage_type\": \"ceph\",\n",
    "    \"credentials\": {\n",
    "        \"credentials\": {\n",
    "            \"access_key\": S3_ACCESS_KEY,\n",
    "            \"secret_key\": S3_SECRET_KEY,\n",
    "        }\n",
    "    },\n",
    "    \"url\": S3_ENDPOINT,\n",
    "}\n",
    "\n",
    "\n",
    "response = requests.post(\n",
    "    url=f\"https://openeo.eodc.eu/openeo/1.1.0/workspaces/{WORKSPACE_NAME}/register\",\n",
    "    json=ext_ws,\n",
    "    headers={\n",
    "        \"authorization\": f\"Bearer {connection.auth.bearer}\"\n",
    "    },\n",
    ")\n",
    "\n",
    "\n",
    "\n",
    "response"
   ]
  },
  {
   "cell_type": "markdown",
   "metadata": {},
   "source": [
    "Now the endpoint is registered with the backend and we can use it to save and load results."
   ]
  },
  {
   "cell_type": "markdown",
   "metadata": {},
   "source": [
    "## Step 2: Save the results of a process graph to the workspace.\n",
    "\n",
    "For this we will use the openeo python library and execute the following process graph which will load a small spatial extent of the boa_sentinel_2 dataset, and save it to the specified workspace."
   ]
  },
  {
   "cell_type": "code",
   "execution_count": null,
   "metadata": {},
   "outputs": [],
   "source": [
    "import uuid\n",
    "\n",
    "\n",
    "process_graph = {\n",
    "    \"id\": str(uuid.uuid4()),\n",
    "    \"process_graph\": {\n",
    "        \"load1\": {\n",
    "            \"process_id\": \"load_collection\",\n",
    "            \"arguments\": {\n",
    "                \"id\": \"boa_sentinel_2\",\n",
    "                \"spatial_extent\": {\n",
    "                    \"west\": 16.156771491786476,\n",
    "                    \"east\": 16.59018048465475,\n",
    "                    \"south\": 48.08419286799747,\n",
    "                    \"north\": 48.34670064966687,\n",
    "                },\n",
    "                \"temporal_extent\": [\n",
    "                    \"2019-01-01T00:00:00Z\",\n",
    "                    \"2019-01-31T00:00:00Z\",\n",
    "                ],\n",
    "                \"bands\": [\"B02\"],\n",
    "            },\n",
    "        },\n",
    "        \"save2\": {\n",
    "            \"process_id\": \"save_result\",\n",
    "            \"arguments\": {\n",
    "                \"data\": {\"from_node\": \"load1\"},\n",
    "                \"options\": {\"workspace\": WORKSPACE_NAME},\n",
    "                \"format\": \"GTIFF\",\n",
    "            },\n",
    "            \"result\": True,\n",
    "        },\n",
    "    },\n",
    "}\n",
    "\n",
    "\n",
    "job = connection.create_job(process_graph=process_graph, title=\"save-to-workspace-job\")\n",
    "job.start_job()"
   ]
  },
  {
   "cell_type": "code",
   "execution_count": null,
   "metadata": {},
   "outputs": [],
   "source": [
    "job # Execute this cell to check on your started jobs status"
   ]
  },
  {
   "cell_type": "markdown",
   "metadata": {},
   "source": [
    "## Step 3: Check the results in the workspace and get the resulting collection id\n",
    "\n",
    "For this we can either use any external tool to check the results in the workspace, \n",
    "or use the eodc-sdk WorkspaceAdapter (or directly use the CephAdapter) to list the files in the workspace.\n",
    "\n"
   ]
  },
  {
   "cell_type": "code",
   "execution_count": null,
   "metadata": {},
   "outputs": [],
   "source": [
    "\n",
    "from eodc.workspace import WorkspaceAdapter, StorageType # , CephAdapter \n",
    "\n",
    "adapter: WorkspaceAdapter = WorkspaceAdapter.create_adapter(storage_type=StorageType.CEPH, parameters={\"url\": S3_ENDPOINT, \"access_key\": S3_ACCESS_KEY, \"secret_key\": S3_SECRET_KEY})\n",
    "\n",
    "# Equivalent CephAdapter initialization\n",
    "# adapter = CephAdapter(S3_ENDPOINT, SecretStr(S3_ACCESS_KEY),  SecretStr(S3_SECRET_KEY))\n",
    "\n",
    "adapter.list_workspace_files(WORKSPACE_NAME)\n",
    "\n"
   ]
  },
  {
   "cell_type": "markdown",
   "metadata": {},
   "source": [
    "Here we can see that all our results are present and listed. The collection id corresponds to the created folder name.\n",
    "The STAC collection data is found in the STAC folder, \n",
    "and the created files are in the first level of the folder, while the STAC items are found in the ../STAC/items/ \n"
   ]
  },
  {
   "cell_type": "markdown",
   "metadata": {},
   "source": [
    "## Step 4: Load the results of the process graph from the workspace and use it in a new process graph.\n",
    "\n",
    "By adding the resulting collection id (the name of the resulting folder) for example: \"openeo_abcd-1234-5678...\"\n",
    "as the id in the load collection call and the registered Workspace name as the \"workspace\" property, you can reload the saved data from the original job\n",
    "and use it in any new process graph."
   ]
  },
  {
   "cell_type": "code",
   "execution_count": null,
   "metadata": {},
   "outputs": [],
   "source": [
    "process_graph = {\n",
    "    \"id\": str(uuid.uuid4()),\n",
    "    \"process_graph\": {\n",
    "        \"load1\": {\n",
    "            \"process_id\": \"load_collection\",\n",
    "            \"arguments\": {\n",
    "                \"id\": \"openeo_75cbd3f2-6296-479d-9231-53ffca1254ad\",\n",
    "                \"properties\": {\"workspace\": WORKSPACE_NAME},\n",
    "                \"spatial_extent\": {\n",
    "                    \"west\": 15,\n",
    "                    \"east\": 48,\n",
    "                    \"south\": 17,\n",
    "                    \"north\": 49       \n",
    "                },\n",
    "                \"temporal_extent\": [\n",
    "                    \"2019-01-01T00:00:00Z\",\n",
    "                    \"2024-01-08T00:00:00Z\",\n",
    "                ],\n",
    "                \"bands\": [\"raster-result\"],\n",
    "            },\n",
    "        },\n",
    "        \"save2\": {\n",
    "            \"process_id\": \"save_result\",\n",
    "            \"arguments\": {\"data\": {\"from_node\": \"load1\"}, \"format\": \"GTIFF\"},\n",
    "            \"result\": True,\n",
    "        },\n",
    "    },\n",
    "}\n",
    "\n",
    "\n",
    "job = connection.create_job(process_graph=process_graph, title=\"load-from-workspace-job\")\n",
    "job.start_job()"
   ]
  },
  {
   "cell_type": "code",
   "execution_count": null,
   "metadata": {},
   "outputs": [],
   "source": [
    "job # Execute this cell to check on your started jobs status"
   ]
  },
  {
   "cell_type": "markdown",
   "metadata": {},
   "source": [
    "## (optional) Step 5: Share your results with another user\n",
    "\n",
    "You can easily give other users read-access to your (EODC)-Workspace by sending a post request\n",
    "to the /workspace/{workspace_name}/share/{user_id}\" endpoint, which will then give read-access to the given user."
   ]
  },
  {
   "cell_type": "code",
   "execution_count": null,
   "metadata": {},
   "outputs": [],
   "source": [
    "SHAREE_USER_ID = \"\"\n",
    "\n",
    "import requests\n",
    "\n",
    "response = requests.post(\n",
    "    url=f\"https://openeo.eodc.eu/openeo/1.1.0/workspace/{WORKSPACE_NAME}/share/{SHAREE_USER_ID}\",\n",
    "    headers={\n",
    "        \"authorization\": f\"Bearer {connection.auth.bearer}\"\n",
    "    },\n",
    ")\n",
    "\n",
    "response.content"
   ]
  }
 ],
 "metadata": {
  "kernelspec": {
   "display_name": ".venv",
   "language": "python",
   "name": "python3"
  },
  "language_info": {
   "codemirror_mode": {
    "name": "ipython",
    "version": 3
   },
   "file_extension": ".py",
   "mimetype": "text/x-python",
   "name": "python",
   "nbconvert_exporter": "python",
   "pygments_lexer": "ipython3",
   "version": "3.10.12"
  }
 },
 "nbformat": 4,
 "nbformat_minor": 2
}
