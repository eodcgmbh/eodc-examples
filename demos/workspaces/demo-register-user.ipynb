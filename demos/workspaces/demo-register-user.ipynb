{
 "cells": [
  {
   "cell_type": "markdown",
   "metadata": {},
   "source": [
    "## User Story: Credential Management\n",
    "\n",
    "This notebook will outline how you can create user credentials, delete them and get them if you forget them.\n",
    "\n",
    "User credentials refer to a set of s3 credentials used for interacting with your internal EODC workspaces (and ones shared with you)."
   ]
  },
  {
   "cell_type": "code",
   "execution_count": 1,
   "metadata": {},
   "outputs": [
    {
     "data": {
      "text/html": [
       "Visit <a href=\"https://aai.egi.eu/device?user_code=GKTC-GDHI\" title=\"Authenticate at https://aai.egi.eu/device?user_code=GKTC-GDHI\" target=\"_blank\" rel=\"noopener noreferrer\">https://aai.egi.eu/device?user_code=GKTC-GDHI</a> <a href=\"#\" onclick=\"navigator.clipboard.writeText('https://aai.egi.eu/device?user_code=GKTC-GDHI');return false;\" title=\"Copy authentication URL to clipboard\">&#128203;</a> to authenticate."
      ]
     },
     "metadata": {},
     "output_type": "display_data"
    },
    {
     "data": {
      "text/html": [
       "✅ Authorized successfully"
      ]
     },
     "metadata": {},
     "output_type": "display_data"
    },
    {
     "name": "stdout",
     "output_type": "stream",
     "text": [
      "Authenticated using device code flow.\n"
     ]
    }
   ],
   "source": [
    "import openeo\n",
    "\n",
    "# Connect to the openEO backend and authenticate with EGI Check-In\n",
    "\n",
    "connection = openeo.connect(\"https://openeo.eodc.eu/openeo/1.1.0\")\n",
    "connection = connection.authenticate_oidc(provider_id=\"egi\")"
   ]
  },
  {
   "cell_type": "markdown",
   "metadata": {},
   "source": [
    "### Creating\n",
    "\n",
    "Send a post request to the /workspaces/user endpoint in order to create your credentials, the response will include your new credentials, these will be tied to your account."
   ]
  },
  {
   "cell_type": "code",
   "execution_count": 2,
   "metadata": {},
   "outputs": [
    {
     "data": {
      "text/plain": [
       "'[{\"user_id\":\"8bfde8f1-8005-4d33-9728-2cf479b9fbb8\",\"workspace_name\":\"buckete\",\"storage_type\":\"ceph\",\"credentials\":\"gAAAAABm2bb42FaURejLGtKub-03IyUae0OgUQoV2s6DMU-ILjPe3td63ikJVemuniXjF4YD68xspOg8y-4Xk1_cEFdRwh2-7w-w9lbb2NFW18_FW9v0eH0pmM_r0Wigu_2xOBFZWMuduRlds3FbdSfE52z856o_PGizxV5v6SIL1MoegZBzJ895okkw3OzerVC3pOgT5Gjlw7vatxd9xDMvTb6RwcfIFitg9tBTj9ClVyZKYNgRC21RG9cFlvY4ImnkEH14z8HcoLGhpkp-b1R9yfNhn8vpzQ==\",\"shared\":false}]'"
      ]
     },
     "execution_count": 2,
     "metadata": {},
     "output_type": "execute_result"
    }
   ],
   "source": [
    "import requests\n",
    "\n",
    "response = requests.get(\n",
    "    url=f\"https://openeo.eodc.eu/openeo/1.1.0/workspaces\",\n",
    "    headers={\n",
    "        \"authorization\": f\"Bearer {connection.auth.bearer}\"\n",
    "    },\n",
    ")\n",
    "\n",
    "response.content.decode()"
   ]
  },
  {
   "cell_type": "markdown",
   "metadata": {},
   "source": [
    "### Removing\n",
    "\n",
    "Send a delete request to the /workspaces/user endpoint in order to create your credentials, this will invalidate your current set of credentials, you can simply post again in order to receive a new set of credentials in the future."
   ]
  },
  {
   "cell_type": "code",
   "execution_count": null,
   "metadata": {},
   "outputs": [],
   "source": [
    "import requests\n",
    "\n",
    "response = requests.delete(\n",
    "    url=f\"https://openeo.eodc.eu/openeo/1.1.0/workspaces/user\",\n",
    "    headers={\n",
    "        \"authorization\": f\"Bearer {connection.auth.bearer}\"\n",
    "    },\n",
    ")\n",
    "\n",
    "response.content.decode()"
   ]
  },
  {
   "cell_type": "markdown",
   "metadata": {},
   "source": [
    "### Getting\n",
    "\n",
    "If you forgot your credentials you can simply call get on the same /workspaces/user endpoint and the response will include your current credentials."
   ]
  },
  {
   "cell_type": "code",
   "execution_count": 3,
   "metadata": {},
   "outputs": [
    {
     "data": {
      "text/plain": [
       "'{\"access_key\":\"T73QZI1DJ52VULWONJD7\",\"secret_key\":\"o9PXoX148LHgHlKqx6ml3zII41ly0ci6brKvQnqP\"}'"
      ]
     },
     "execution_count": 3,
     "metadata": {},
     "output_type": "execute_result"
    }
   ],
   "source": [
    "import requests\n",
    "\n",
    "response = requests.get(\n",
    "    url=f\"https://openeo.eodc.eu/openeo/1.1.0/workspaces/user\",\n",
    "    headers={\n",
    "        \"authorization\": f\"Bearer {connection.auth.bearer}\"\n",
    "    },\n",
    ")\n",
    "\n",
    "response.content.decode()"
   ]
  }
 ],
 "metadata": {
  "kernelspec": {
   "display_name": ".venv",
   "language": "python",
   "name": "python3"
  },
  "language_info": {
   "codemirror_mode": {
    "name": "ipython",
    "version": 3
   },
   "file_extension": ".py",
   "mimetype": "text/x-python",
   "name": "python",
   "nbconvert_exporter": "python",
   "pygments_lexer": "ipython3",
   "version": "3.11.0"
  }
 },
 "nbformat": 4,
 "nbformat_minor": 2
}
