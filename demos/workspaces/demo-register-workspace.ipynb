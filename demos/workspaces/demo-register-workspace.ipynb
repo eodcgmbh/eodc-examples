{
 "cells": [
  {
   "cell_type": "markdown",
   "metadata": {},
   "source": [
    "## User Story: Registering a Workspace\n",
    "\n",
    "John is a PhD student with user collection data stored in a container on Azure blob storage service. \n",
    "\n",
    "Instead of creating a internal EODC workspace, you can register your own workspace and use it in much the same way.\n",
    "\n",
    "All you need to do is post to the \"/workspaces\" endpoint with a  and submit your credentials."
   ]
  },
  {
   "cell_type": "code",
   "execution_count": null,
   "metadata": {},
   "outputs": [],
   "source": [
    "import openeo\n",
    "\n",
    "# Connect to the openEO backend and authenticate with EGI Check-In\n",
    "\n",
    "connection = openeo.connect(\"https://openeo.eodc.eu/openeo/1.2.0\")\n",
    "connection = connection.authenticate_oidc(provider_id=\"egi\")"
   ]
  },
  {
   "cell_type": "markdown",
   "metadata": {},
   "source": [
    "You can fill out the following variables so they fit with the workspace that you are trying to register.\n",
    "\n",
    "IMPORTANT NOTE: Make sure the workspace name corresponds to your underlying bucket/container"
   ]
  },
  {
   "cell_type": "code",
   "execution_count": null,
   "metadata": {},
   "outputs": [],
   "source": [
    "# If your workspace is a s3 compatible object storage fill out these variables\n",
    "\n",
    "WORKSPACE_NAME = \"\"\n",
    "\n",
    "S3_ENDPOINT = \"\"\n",
    "S3_ACCESS_KEY = \"\"\n",
    "S3_SECRET_KEY = \"\"\n",
    "\n",
    "ext_ws = {\n",
    "    \"title\": WORKSPACE_NAME,\n",
    "    \"intent\": \"register\",\n",
    "    \"storage_type\": \"ceph\",\n",
    "    \"credentials\": {\n",
    "        \"url\": S3_ENDPOINT,\n",
    "        \"access_key\": S3_ACCESS_KEY,\n",
    "        \"secret_key\": S3_SECRET_KEY, \n",
    "    },\n",
    "\n",
    "}"
   ]
  },
  {
   "cell_type": "code",
   "execution_count": null,
   "metadata": {},
   "outputs": [],
   "source": [
    "# If your workspace is azure blob storage, fill out the connection string\n",
    "\n",
    "WORKSPACE_NAME = \"\"\n",
    "\n",
    "AZURE_CONNECTION_STRING = \"\"\n",
    "\n",
    "ext_ws = {\n",
    "    \"title\": WORKSPACE_NAME,\n",
    "    \"intent\": \"register\",\n",
    "    \"storage_type\": \"azure\",\n",
    "    \"credentials\": {\n",
    "        \"connection_string\": AZURE_CONNECTION_STRING, \n",
    "    },\n",
    "}"
   ]
  },
  {
   "cell_type": "markdown",
   "metadata": {},
   "source": [
    "After filling out these request bodies, you can send a request to the given endpoint and your workspace will be registered in our backend."
   ]
  },
  {
   "cell_type": "code",
   "execution_count": null,
   "metadata": {},
   "outputs": [],
   "source": [
    "import requests\n",
    "\n",
    "response = requests.post(\n",
    "    url=f\"https://openeo.eodc.eu/openeo/1.2.0/workspaces\",\n",
    "    json=ext_ws,\n",
    "    headers={\n",
    "        \"authorization\": f\"Bearer {connection.auth.bearer}\"\n",
    "    },\n",
    ")\n",
    "\n",
    "response.content"
   ]
  },
  {
   "cell_type": "markdown",
   "metadata": {},
   "source": [
    "If the response is positive, we have successfully registered our workspace under our user and can now use it as we would any other workspace, by passing the workspace name in our process graphs."
   ]
  }
 ],
 "metadata": {
  "kernelspec": {
   "display_name": ".venv",
   "language": "python",
   "name": "python3"
  },
  "language_info": {
   "codemirror_mode": {
    "name": "ipython",
    "version": 3
   },
   "file_extension": ".py",
   "mimetype": "text/x-python",
   "name": "python",
   "nbconvert_exporter": "python",
   "pygments_lexer": "ipython3",
   "version": "3.10.12"
  }
 },
 "nbformat": 4,
 "nbformat_minor": 2
}
