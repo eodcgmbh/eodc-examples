{
 "cells": [
  {
   "cell_type": "markdown",
   "metadata": {},
   "source": [
    "## User Story: Save openEO result to Workspace\n",
    "\n",
    "Mia is a data scientist, she wants to have access to the user workspace solution to store user results produced with the openEO Platform service offering."
   ]
  },
  {
   "cell_type": "markdown",
   "metadata": {},
   "source": [
    "In order to save results from openEO jobs to workspaces, make sure that either your external workspace is registered with the openEO backend (see External Workspace Registration Notebook) or you have provisioned a local workspace.\n",
    "\n",
    "Then all you need to do, is add the export_to_workspace process after your save_result process in the process graph\n",
    "\n",
    "arguments: {\"workspace\": WORKSPACE_NAME}"
   ]
  },
  {
   "cell_type": "code",
   "execution_count": 22,
   "metadata": {},
   "outputs": [
    {
     "name": "stdout",
     "output_type": "stream",
     "text": [
      "Authenticated using refresh token.\n"
     ]
    }
   ],
   "source": [
    "import openeo\n",
    "\n",
    "# Set This variable to your workspace's name.\n",
    "\n",
    "WORKSPACE_NAME = \"buckete\"\n",
    "\n",
    "# Connect to the openEO backend and authenticate with EGI Check-In\n",
    "\n",
    "connection = openeo.connect(\"https://openeo.eodc.eu/openeo/1.1.0\")\n",
    "connection = connection.authenticate_oidc(provider_id=\"egi\")"
   ]
  },
  {
   "cell_type": "markdown",
   "metadata": {},
   "source": [
    "## Using a process graph\n",
    "\n",
    "Here all we do is set the workspace argument in the process to whatever our workspace might be called.\n",
    "\n",
    "The rest of the process just loads and saves data, we need to run save_result first, as otherwise there won't be any data to export."
   ]
  },
  {
   "cell_type": "code",
   "execution_count": 15,
   "metadata": {},
   "outputs": [],
   "source": [
    "process_graph = {\n",
    "  \"categories\": [],\n",
    "  \"deprecated\": False,\n",
    "  \"experimental\": False,\n",
    "  \"process_graph\": {\n",
    "    \"load1\": {\n",
    "      \"process_id\": \"load_collection\",\n",
    "      \"arguments\": {\n",
    "        \"id\": \"boa_sentinel_2\",\n",
    "        \"spatial_extent\": {\n",
    "          \"west\": 16.156771491786476,\n",
    "          \"east\": 16.59018048465475,\n",
    "          \"south\": 48.08419286799747,\n",
    "          \"north\": 48.34670064966687\n",
    "        },\n",
    "        \"temporal_extent\": [\n",
    "          \"2019-01-01T00:00:00Z\",\n",
    "          \"2019-01-31T00:00:00Z\"\n",
    "        ],\n",
    "        \"bands\": [\n",
    "          \"B02\"\n",
    "        ]\n",
    "      }\n",
    "    },\n",
    "    \"save2\": {\n",
    "      \"process_id\": \"save_result\",\n",
    "      \"arguments\": {\n",
    "        \"data\": {\n",
    "          \"from_node\": \"load1\"\n",
    "        },\n",
    "        \"format\": \"GTIFF\"\n",
    "      },\n",
    "      \"result\": True\n",
    "    },\n",
    "    \"export1\": {\n",
    "      \"process_id\": \"export_to_workspace\",\n",
    "      \"arguments\": {\n",
    "        \"data\": {\n",
    "          \"from_node\": \"save2\"\n",
    "        },\n",
    "        \"workspace\": WORKSPACE_NAME,\n",
    "        \"path\": \"\"\n",
    "      }\n",
    "    }\n",
    "  }\n",
    "}"
   ]
  },
  {
   "cell_type": "code",
   "execution_count": 16,
   "metadata": {},
   "outputs": [
    {
     "data": {
      "text/html": [
       "\n",
       "    <script>\n",
       "    if (!window.customElements || !window.customElements.get('openeo-job')) {\n",
       "        var el = document.createElement('script');\n",
       "        el.src = \"https://cdn.jsdelivr.net/npm/@openeo/vue-components@2/assets/openeo.min.js\";\n",
       "        document.head.appendChild(el);\n",
       "\n",
       "        var font = document.createElement('font');\n",
       "        font.as = \"font\";\n",
       "        font.type = \"font/woff2\";\n",
       "        font.crossOrigin = true;\n",
       "        font.href = \"https://use.fontawesome.com/releases/v5.13.0/webfonts/fa-solid-900.woff2\"\n",
       "        document.head.appendChild(font);\n",
       "    }\n",
       "    </script>\n",
       "    <openeo-job>\n",
       "        <script type=\"application/json\">{\"currency\": \"credits\", \"job\": {\"id\": \"d8f88600-c7d8-4a17-89a2-881cee0a6405\", \"title\": \"save-to-workspace-job\", \"process\": {\"categories\": [], \"deprecated\": false, \"experimental\": false, \"process_graph\": {\"load1\": {\"process_id\": \"load_collection\", \"arguments\": {\"id\": \"boa_sentinel_2\", \"spatial_extent\": {\"west\": 16.156771491786476, \"east\": 16.59018048465475, \"south\": 48.08419286799747, \"north\": 48.34670064966687}, \"temporal_extent\": [\"2019-01-01T00:00:00Z\", \"2019-01-31T00:00:00Z\"], \"bands\": [\"B02\"]}}, \"save2\": {\"process_id\": \"save_result\", \"arguments\": {\"data\": {\"from_node\": \"load1\"}, \"format\": \"GTIFF\"}, \"result\": true}, \"export1\": {\"process_id\": \"export_to_workspace\", \"arguments\": {\"data\": {\"from_node\": \"save2\"}, \"workspace\": \"bucketen\", \"path\": \"\"}}}}, \"status\": \"queued\", \"created\": \"2024-09-05T13:55:20Z\"}}</script>\n",
       "    </openeo-job>\n",
       "    "
      ],
      "text/plain": [
       "<BatchJob job_id='d8f88600-c7d8-4a17-89a2-881cee0a6405'>"
      ]
     },
     "execution_count": 16,
     "metadata": {},
     "output_type": "execute_result"
    }
   ],
   "source": [
    "job = connection.create_job(process_graph=process_graph, title=\"save-to-workspace-job\")\n",
    "#\n",
    "job.start_job()"
   ]
  },
  {
   "cell_type": "code",
   "execution_count": 20,
   "metadata": {},
   "outputs": [
    {
     "data": {
      "text/html": [
       "\n",
       "    <script>\n",
       "    if (!window.customElements || !window.customElements.get('openeo-job')) {\n",
       "        var el = document.createElement('script');\n",
       "        el.src = \"https://cdn.jsdelivr.net/npm/@openeo/vue-components@2/assets/openeo.min.js\";\n",
       "        document.head.appendChild(el);\n",
       "\n",
       "        var font = document.createElement('font');\n",
       "        font.as = \"font\";\n",
       "        font.type = \"font/woff2\";\n",
       "        font.crossOrigin = true;\n",
       "        font.href = \"https://use.fontawesome.com/releases/v5.13.0/webfonts/fa-solid-900.woff2\"\n",
       "        document.head.appendChild(font);\n",
       "    }\n",
       "    </script>\n",
       "    <openeo-job>\n",
       "        <script type=\"application/json\">{\"currency\": \"credits\", \"job\": {\"id\": \"d8f88600-c7d8-4a17-89a2-881cee0a6405\", \"title\": \"save-to-workspace-job\", \"process\": {\"categories\": [], \"deprecated\": false, \"experimental\": false, \"process_graph\": {\"load1\": {\"process_id\": \"load_collection\", \"arguments\": {\"id\": \"boa_sentinel_2\", \"spatial_extent\": {\"west\": 16.156771491786476, \"east\": 16.59018048465475, \"south\": 48.08419286799747, \"north\": 48.34670064966687}, \"temporal_extent\": [\"2019-01-01T00:00:00Z\", \"2019-01-31T00:00:00Z\"], \"bands\": [\"B02\"]}}, \"save2\": {\"process_id\": \"save_result\", \"arguments\": {\"data\": {\"from_node\": \"load1\"}, \"format\": \"GTIFF\"}, \"result\": true}, \"export1\": {\"process_id\": \"export_to_workspace\", \"arguments\": {\"data\": {\"from_node\": \"save2\"}, \"workspace\": \"bucketen\", \"path\": \"\"}}}}, \"status\": \"finished\", \"created\": \"2024-09-05T13:55:20Z\"}}</script>\n",
       "    </openeo-job>\n",
       "    "
      ],
      "text/plain": [
       "<BatchJob job_id='d8f88600-c7d8-4a17-89a2-881cee0a6405'>"
      ]
     },
     "execution_count": 20,
     "metadata": {},
     "output_type": "execute_result"
    }
   ],
   "source": [
    "job # Execute this to check on your jobs progress"
   ]
  },
  {
   "cell_type": "markdown",
   "metadata": {},
   "source": [
    "After the job has finished you can check your workspace to access your results!"
   ]
  }
 ],
 "metadata": {
  "kernelspec": {
   "display_name": ".venv",
   "language": "python",
   "name": "python3"
  },
  "language_info": {
   "codemirror_mode": {
    "name": "ipython",
    "version": 3
   },
   "file_extension": ".py",
   "mimetype": "text/x-python",
   "name": "python",
   "nbconvert_exporter": "python",
   "pygments_lexer": "ipython3",
   "version": "3.11.0"
  }
 },
 "nbformat": 4,
 "nbformat_minor": 2
}
