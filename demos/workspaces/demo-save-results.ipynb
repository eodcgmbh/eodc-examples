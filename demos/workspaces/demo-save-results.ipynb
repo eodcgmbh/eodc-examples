{
 "cells": [
  {
   "cell_type": "markdown",
   "metadata": {},
   "source": [
    "## User Story: Save openEO result to Workspace\n",
    "\n",
    "Mia is a data scientist, she wants to have access to the user workspace solution to store user results produced with the openEO Platform service offering."
   ]
  },
  {
   "cell_type": "markdown",
   "metadata": {},
   "source": [
    "In order to save results from openEO jobs to workspaces, make sure that either your external workspace is registered with the openEO backend (see External Workspace Registration Notebook) or you have provisioned a local workspace.\n",
    "\n",
    "Then all you need to do, is add the export_workspace process after your save_result process in the process graph\n",
    "\n",
    "arguments: {\"workspace\": WORKSPACE_NAME}"
   ]
  },
  {
   "cell_type": "markdown",
   "metadata": {},
   "source": [
    "## Using the openeo python library\n",
    "\n",
    "To export data to a workspace using the openeo library, you can simply"
   ]
  },
  {
   "cell_type": "code",
   "execution_count": null,
   "metadata": {},
   "outputs": [],
   "source": [
    "import openeo\n",
    "\n",
    "# Set This variable to your workspace's name.\n",
    "\n",
    "WORKSPACE_NAME = \"demo\"\n",
    "\n",
    "# Connect to the openEO backend and authenticate with EGI Check-In\n",
    "\n",
    "connection = openeo.connect(\"https://openeo.eodc.eu/openeo/1.2.0\")\n",
    "connection = connection.authenticate_oidc(provider_id=\"egi\")"
   ]
  },
  {
   "cell_type": "code",
   "execution_count": null,
   "metadata": {},
   "outputs": [],
   "source": [
    "from openeo.rest.datacube import THIS\n",
    "\n",
    "collection = connection.load_collection(\n",
    "    collection_id=\"boa_sentinel_2\",\n",
    "    spatial_extent={\n",
    "        \"west\": 16.156771491786476,\n",
    "        \"east\": 16.59018048465475,\n",
    "        \"south\": 48.08419286799747,\n",
    "        \"north\": 48.34670064966687,\n",
    "    },\n",
    "    temporal_extent=[\"2019-01-01T00:00:00Z\", \"2019-01-31T00:00:00Z\"],\n",
    "    bands=[\"B02\"],\n",
    ")\n",
    "\n",
    "result = collection.save_result().process(\n",
    "    \"export_workspace\", arguments={\"workspace\": WORKSPACE_NAME, \"merge\": None}, data=THIS\n",
    ")\n"
   ]
  },
  {
   "cell_type": "markdown",
   "metadata": {},
   "source": [
    "Run this to start the job."
   ]
  },
  {
   "cell_type": "code",
   "execution_count": null,
   "metadata": {},
   "outputs": [],
   "source": [
    "job = result.create_job()\n",
    "\n",
    "job.start()"
   ]
  },
  {
   "cell_type": "markdown",
   "metadata": {},
   "source": [
    "Run this to check the status of your job."
   ]
  },
  {
   "cell_type": "code",
   "execution_count": null,
   "metadata": {},
   "outputs": [],
   "source": [
    "job"
   ]
  },
  {
   "cell_type": "markdown",
   "metadata": {},
   "source": [
    "After the job has run through you can check the exported files in your workspace!"
   ]
  }
 ],
 "metadata": {
  "kernelspec": {
   "display_name": ".venv",
   "language": "python",
   "name": "python3"
  },
  "language_info": {
   "codemirror_mode": {
    "name": "ipython",
    "version": 3
   },
   "file_extension": ".py",
   "mimetype": "text/x-python",
   "name": "python",
   "nbconvert_exporter": "python",
   "pygments_lexer": "ipython3",
   "version": "3.10.12"
  }
 },
 "nbformat": 4,
 "nbformat_minor": 2
}
