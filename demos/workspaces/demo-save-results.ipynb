{
 "cells": [
  {
   "cell_type": "markdown",
   "metadata": {},
   "source": [
    "## User Story: Save openEO result to Workspace\n",
    "\n",
    "Mia is a data scientist, she wants to have access to the user workspace solution to store user results produced with the openEO Platform service offering."
   ]
  },
  {
   "cell_type": "markdown",
   "metadata": {},
   "source": [
    "In order to save results from openEO jobs to workspaces, make sure that either your external workspace is registered with the openEO backend (see External Workspace Registration Notebook) or you have provisioned a local workspace.\n",
    "\n",
    "Then all you need to do, is add the export_to_workspace process after your save_result process in the process graph\n",
    "\n",
    "arguments: {\"workspace\": WORKSPACE_NAME}"
   ]
  },
  {
   "cell_type": "code",
   "execution_count": null,
   "metadata": {},
   "outputs": [],
   "source": [
    "import openeo\n",
    "\n",
    "# Set This variable to your workspace's name.\n",
    "\n",
    "WORKSPACE_NAME = \"\"\n",
    "\n",
    "# Connect to the openEO backend and authenticate with EGI Check-In\n",
    "\n",
    "connection = openeo.connect(\"https://openeo.eodc.eu/openeo/1.1.0\")\n",
    "connection = connection.authenticate_oidc(provider_id=\"egi\")"
   ]
  },
  {
   "cell_type": "markdown",
   "metadata": {},
   "source": [
    "## Using a process graph\n",
    "\n",
    "Here all we do is set the workspace argument in the process to whatever our workspace might be called.\n",
    "\n",
    "The rest of the process just loads and saves data, we need to run save_result first, as otherwise there won't be any data to export."
   ]
  },
  {
   "cell_type": "code",
   "execution_count": null,
   "metadata": {},
   "outputs": [],
   "source": [
    "process_graph = {\n",
    "  \"categories\": [],\n",
    "  \"deprecated\": False,\n",
    "  \"experimental\": False,\n",
    "  \"process_graph\": {\n",
    "    \"load1\": {\n",
    "      \"process_id\": \"load_collection\",\n",
    "      \"arguments\": {\n",
    "        \"id\": \"boa_sentinel_2\",\n",
    "        \"spatial_extent\": {\n",
    "          \"west\": 16.156771491786476,\n",
    "          \"east\": 16.59018048465475,\n",
    "          \"south\": 48.08419286799747,\n",
    "          \"north\": 48.34670064966687\n",
    "        },\n",
    "        \"temporal_extent\": [\n",
    "          \"2019-01-01T00:00:00Z\",\n",
    "          \"2019-01-31T00:00:00Z\"\n",
    "        ],\n",
    "        \"bands\": [\n",
    "          \"B02\"\n",
    "        ]\n",
    "      }\n",
    "    },\n",
    "    \"save2\": {\n",
    "      \"process_id\": \"save_result\",\n",
    "      \"arguments\": {\n",
    "        \"data\": {\n",
    "          \"from_node\": \"load1\"\n",
    "        },\n",
    "        \"options\": {},\n",
    "        \"format\": \"GTIFF\"\n",
    "      },\n",
    "      \"result\": True\n",
    "    },\n",
    "    \"export1\": {\n",
    "      \"process_id\": \"export_to_workspace\",\n",
    "      \"arguments\": {\n",
    "        \"data\": {\n",
    "          \"from_node\": \"save2\"\n",
    "        },\n",
    "        \"workspace\": WORKSPACE_NAME,\n",
    "        \"path\": \"\"\n",
    "      }\n",
    "    }\n",
    "  }\n",
    "}"
   ]
  },
  {
   "cell_type": "code",
   "execution_count": null,
   "metadata": {},
   "outputs": [],
   "source": [
    "job = connection.create_job(process_graph=process_graph, title=\"save-to-workspace-job\")\n",
    "job.start_job()"
   ]
  },
  {
   "cell_type": "code",
   "execution_count": null,
   "metadata": {},
   "outputs": [],
   "source": [
    "job # Execute this to check on your jobs progress"
   ]
  },
  {
   "cell_type": "markdown",
   "metadata": {},
   "source": [
    "After the job has finished you can check your workspace to access your results!"
   ]
  }
 ],
 "metadata": {
  "kernelspec": {
   "display_name": ".venv",
   "language": "python",
   "name": "python3"
  },
  "language_info": {
   "codemirror_mode": {
    "name": "ipython",
    "version": 3
   },
   "file_extension": ".py",
   "mimetype": "text/x-python",
   "name": "python",
   "nbconvert_exporter": "python",
   "pygments_lexer": "ipython3",
   "version": "3.10.12"
  }
 },
 "nbformat": 4,
 "nbformat_minor": 2
}
