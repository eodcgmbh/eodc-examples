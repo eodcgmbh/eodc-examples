{
 "cells": [
  {
   "cell_type": "markdown",
   "metadata": {},
   "source": [
    "## User Story: Save openEO result to Workspace\n",
    "\n",
    "Mia is a data scientist, she wants to have access to the user workspace solution to store user results produced with the openEO Platform service offering.\n",
    "\n",
    "https://eodc.atlassian.net/browse/SDO2024-302"
   ]
  },
  {
   "cell_type": "markdown",
   "metadata": {},
   "source": [
    "In order to save results from openEO jobs to workspaces, make sure that either your external workspace is registered with the openEO backend (see External Workspace Registration Notebook) or you have provisioned a local workspace.\n",
    "\n",
    "Then all you need to do, is add the workspace option to the arguments of the save_result node with your workspace name and your files will be saved directly to the workspace.\n",
    "\n",
    "arguments: {\"options\": {\"workspace\": WORKSPACE_NAME}, ...}"
   ]
  },
  {
   "cell_type": "code",
   "execution_count": null,
   "metadata": {},
   "outputs": [],
   "source": [
    "import openeo\n",
    "\n",
    "# Set This variable to your workspace's name.\n",
    "\n",
    "WORKSPACE_NAME = \"\"\n",
    "\n",
    "# Connect to the openEO backend and authenticate with EGI Check-In\n",
    "\n",
    "connection = openeo.connect(\"https://openeo-dev.eodc.eu/openeo/1.1.0\")\n",
    "connection = connection.authenticate_oidc(provider_id=\"egi\")"
   ]
  },
  {
   "cell_type": "markdown",
   "metadata": {},
   "source": [
    "## Using the openEO python library\n",
    "\n",
    "Here all we do is set the workspace name inside the options parameter to whatever our workspace might be called."
   ]
  },
  {
   "cell_type": "code",
   "execution_count": null,
   "metadata": {},
   "outputs": [],
   "source": [
    "spatial_extent = {\n",
    "                    \"west\": 16.156771491786476,\n",
    "                    \"east\": 16.59018048465475,\n",
    "                    \"south\": 48.08419286799747,\n",
    "                    \"north\": 48.34670064966687,\n",
    "                 }\n",
    "\n",
    "temporal_extent = [ \"2019-01-01T00:00:00Z\",\n",
    "                    \"2019-01-31T00:00:00Z\"]\n",
    "\n",
    "options = {\"workspace\": WORKSPACE_NAME}\n",
    "\n",
    "collection = connection.load_collection(\"boa_sentinel_2\", spatial_extent=spatial_extent, temporal_extent=temporal_extent)\n",
    "\n",
    "# And here we call save result giving it the \"workspace\" option which we set to our desired workspace name.\n",
    "result = collection.save_result(options=options)"
   ]
  },
  {
   "cell_type": "code",
   "execution_count": null,
   "metadata": {},
   "outputs": [],
   "source": [
    "job = result.create_job()\n",
    "job.start_job()"
   ]
  },
  {
   "cell_type": "code",
   "execution_count": null,
   "metadata": {},
   "outputs": [],
   "source": [
    "job # Execute this to check on your jobs progress"
   ]
  },
  {
   "cell_type": "markdown",
   "metadata": {},
   "source": [
    "After the job has finished you can check your workspace to access your results!"
   ]
  }
 ],
 "metadata": {
  "kernelspec": {
   "display_name": ".venv",
   "language": "python",
   "name": "python3"
  },
  "language_info": {
   "codemirror_mode": {
    "name": "ipython",
    "version": 3
   },
   "file_extension": ".py",
   "mimetype": "text/x-python",
   "name": "python",
   "nbconvert_exporter": "python",
   "pygments_lexer": "ipython3",
   "version": "3.10.12"
  }
 },
 "nbformat": 4,
 "nbformat_minor": 2
}
