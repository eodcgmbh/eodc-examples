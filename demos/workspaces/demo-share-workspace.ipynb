{
 "cells": [
  {
   "cell_type": "markdown",
   "metadata": {},
   "source": [
    "## User Story: Workspace Sharing\n",
    "\n",
    "\n",
    "John creates a user collection by running an openEO process graph. He wants to share this user collection with Nina. Nina wants to visualise John's user collection in a Jupyter Notebook and runs a process graph that uses this as an input collection."
   ]
  },
  {
   "cell_type": "markdown",
   "metadata": {},
   "source": [
    "Sharing your workspace is extremely simple, all you have to do is send a post request to the /workspace/{WORKSPACE_NAME}/share/{SHAREE_USER_ID} endpoint with the corresponding workspace name and the user-id of the person you want to share your workspace with (Note: this only works for local EODC workspaces).\n",
    "\n",
    "This call will allow read access for whoever you share the workspace with, which also means the other person can send load_collection requests using this workspace, but they cannot save results to it."
   ]
  },
  {
   "cell_type": "code",
   "execution_count": null,
   "metadata": {},
   "outputs": [],
   "source": [
    "import openeo\n",
    "\n",
    "# Connect to the openEO backend and authenticate with EGI Check-In\n",
    "\n",
    "connection = openeo.connect(\"https://openeo.eodc.eu/openeo/1.2.0\")\n",
    "connection = connection.authenticate_oidc(provider_id=\"egi\")"
   ]
  },
  {
   "cell_type": "code",
   "execution_count": null,
   "metadata": {},
   "outputs": [],
   "source": [
    "import requests\n",
    "\n",
    "WORKSPACE_NAME = \"\"\n",
    "SHAREE_USER_ID = \"\"\n",
    "\n",
    "response = requests.post(\n",
    "    url=f\"https://openeo.eodc.eu/openeo/1.2.0/workspace/{WORKSPACE_NAME}/share/{SHAREE_USER_ID}\",\n",
    "    headers={\n",
    "        \"authorization\": f\"Bearer {connection.auth.bearer}\"\n",
    "    },\n",
    ")\n",
    "\n",
    "response.content"
   ]
  },
  {
   "cell_type": "markdown",
   "metadata": {},
   "source": [
    "If we get a successful response, we have now shared the workspace and the other person will now have read access and can load your user collections for their own process graphs.\n",
    "\n",
    "If you want to stop sharing your workspace, you can simply send a delete request to the same endpoint."
   ]
  },
  {
   "cell_type": "code",
   "execution_count": null,
   "metadata": {},
   "outputs": [],
   "source": [
    "import requests\n",
    "\n",
    "WORKSPACE_NAME = \"\"\n",
    "SHAREE_USER_ID = \"\"\n",
    "\n",
    "response = requests.delete(\n",
    "    url=f\"https://openeo.eodc.eu/openeo/1.2.0/workspace/{WORKSPACE_NAME}/share/{SHAREE_USER_ID}\",\n",
    "    headers={\n",
    "        \"authorization\": f\"Bearer {connection.auth.bearer}\"\n",
    "    },\n",
    ")\n",
    "\n",
    "response.content"
   ]
  },
  {
   "cell_type": "markdown",
   "metadata": {},
   "source": [
    "A successful response here means the other user will no longer have any access to your workspace."
   ]
  }
 ],
 "metadata": {
  "kernelspec": {
   "display_name": ".venv",
   "language": "python",
   "name": "python3"
  },
  "language_info": {
   "codemirror_mode": {
    "name": "ipython",
    "version": 3
   },
   "file_extension": ".py",
   "mimetype": "text/x-python",
   "name": "python",
   "nbconvert_exporter": "python",
   "pygments_lexer": "ipython3",
   "version": "3.10.12"
  }
 },
 "nbformat": 4,
 "nbformat_minor": 2
}
