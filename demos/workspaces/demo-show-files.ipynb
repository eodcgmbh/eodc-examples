{
 "cells": [
  {
   "cell_type": "markdown",
   "metadata": {},
   "source": [
    "## User Story: List Files\n",
    "\n",
    "As an openEO Platform user, Mia wants to list all files in her user workspace.\n"
   ]
  },
  {
   "cell_type": "markdown",
   "metadata": {},
   "source": [
    "There is a variety of ways to list your workspace files.\n",
    "\n",
    "- Through the openEO API \n",
    "- Using the WorkspaceAdapter\n",
    "- With a 3rd-Party object-storage file explorer"
   ]
  },
  {
   "cell_type": "markdown",
   "metadata": {},
   "source": [
    "#### 1) openEO API\n",
    "\n",
    "Disclaimer: We enable this feature soley for internal EODC Workspaces as we want to limit read-operations, especially those exposed through a public API (even despite authentication), on external workspaces."
   ]
  },
  {
   "cell_type": "markdown",
   "metadata": {},
   "source": [
    "There is only single step involved, assuming you already have a workspace with some data in it, you can simply make a request to the /workspace/{WORKSPACE_NAME}/files endpoint and get a list of files returned."
   ]
  },
  {
   "cell_type": "code",
   "execution_count": null,
   "metadata": {},
   "outputs": [],
   "source": [
    "import openeo\n",
    "\n",
    "# Set This variable to your workspace's name.\n",
    "\n",
    "WORKSPACE_NAME = \"\"\n",
    "\n",
    "# Connect to the openEO backend and authenticate with EGI Check-In\n",
    "\n",
    "connection = openeo.connect(\"https://openeo.eodc.eu/openeo/1.2.0\")\n",
    "connection = connection.authenticate_oidc(provider_id=\"egi\")"
   ]
  },
  {
   "cell_type": "code",
   "execution_count": null,
   "metadata": {},
   "outputs": [],
   "source": [
    "import requests\n",
    "\n",
    "response = requests.get(\n",
    "    url=f\"https://openeo.eodc.eu/openeo/1.2.0/workspaces/{WORKSPACE_NAME}/files\",\n",
    "    headers={\n",
    "        \"authorization\": f\"Bearer {connection.auth.bearer}\"\n",
    "    },\n",
    ")\n",
    "\n",
    "response.content.decode()"
   ]
  },
  {
   "cell_type": "markdown",
   "metadata": {},
   "source": [
    "## 2) WorkspaceAdapter"
   ]
  },
  {
   "cell_type": "markdown",
   "metadata": {},
   "source": [
    "In order to use the workspace adapter we instantiate a WorkspaceAdapter using the create_adapter function and passing all relevant credentials for our workspace."
   ]
  },
  {
   "cell_type": "markdown",
   "metadata": {},
   "source": [
    "#### (optional) Retrieve local workspace credentials\n",
    "\n",
    "If you forgot your credentials you can easily retrieve them from the /workspaces/user endpoint as demonstrated in the cell below.\n",
    "\n",
    "Disclaimer: careful running this cell during a presentation"
   ]
  },
  {
   "cell_type": "code",
   "execution_count": null,
   "metadata": {},
   "outputs": [],
   "source": [
    "response = requests.get(\n",
    "    url=f\"https://openeo.eodc.eu/openeo/1.2.0/workspaces/user\",\n",
    "    headers={\n",
    "        \"authorization\": f\"Bearer {connection.auth.bearer}\"\n",
    "    },\n",
    ")\n",
    "\n",
    "response.content.decode()"
   ]
  },
  {
   "cell_type": "code",
   "execution_count": null,
   "metadata": {},
   "outputs": [],
   "source": [
    "from eodc.workspace import EODC_CEPH_URL\n",
    "\n",
    "# Set these variables to your own.\n",
    "S3_ENDPOINT = EODC_CEPH_URL\n",
    "S3_ACCESS_KEY = \"\"\n",
    "S3_SECRET_KEY = \"\""
   ]
  },
  {
   "cell_type": "markdown",
   "metadata": {},
   "source": [
    "After setting your variables, just run the cell below to get a list of all the files in your workspace.\n",
    "\n",
    "The workspace adapter can either be directly instantiated as the desired adapter (AzureAdapter, CephAdapter, etc...) or you can use the create_adapter function as demonstrated.\n",
    "\n",
    "Then we simply call the list_workspace_files() function, giving it our workspace's name, and we retrieve a list with all the file paths of our files (recursively)"
   ]
  },
  {
   "cell_type": "code",
   "execution_count": null,
   "metadata": {},
   "outputs": [],
   "source": [
    "from eodc.workspace import WorkspaceAdapter, StorageType # , CephAdapter \n",
    "\n",
    "adapter: WorkspaceAdapter = WorkspaceAdapter.create_adapter(storage_type=StorageType.CEPH, parameters={\"url\": S3_ENDPOINT, \"access_key\": S3_ACCESS_KEY, \"secret_key\": S3_SECRET_KEY})\n",
    "\n",
    "# Equivalent CephAdapter initialization\n",
    "# adapter = CephAdapter(S3_ENDPOINT, SecretStr(S3_ACCESS_KEY),  SecretStr(S3_SECRET_KEY))\n",
    "\n",
    "adapter.list_workspace_files(WORKSPACE_NAME)\n"
   ]
  },
  {
   "cell_type": "markdown",
   "metadata": {},
   "source": [
    "## 3) Third Party Applications\n",
    "\n",
    "This method is less relevant to this tutorial, but you can always use a third-party object-storage browser to view your files or interact with your workspace in general.\n",
    "\n",
    "Some tools:\n",
    "\n",
    "- S3 Browser (for S3 systems like Ceph, you can use this for internal EODC Workspace)\n",
    "- Microsoft Azure Storage Explorer (for Azure Blob Storage)\n",
    "- ..."
   ]
  }
 ],
 "metadata": {
  "kernelspec": {
   "display_name": ".venv",
   "language": "python",
   "name": "python3"
  },
  "language_info": {
   "codemirror_mode": {
    "name": "ipython",
    "version": 3
   },
   "file_extension": ".py",
   "mimetype": "text/x-python",
   "name": "python",
   "nbconvert_exporter": "python",
   "pygments_lexer": "ipython3",
   "version": "3.10.12"
  }
 },
 "nbformat": 4,
 "nbformat_minor": 2
}
