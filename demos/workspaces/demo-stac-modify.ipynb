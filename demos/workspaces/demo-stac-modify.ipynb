{
 "cells": [
  {
   "cell_type": "markdown",
   "metadata": {},
   "source": [
    "## STAC Modify Process\n",
    "\n",
    "The stac_modify process allows you to modify the created stac resources of the save_result processes. So you can edit any properties of the stac objects.\n",
    "\n",
    "The modification of the resource functions according to the [RFC 7386: JSON Merge Patch](https://www.rfc-editor.org/rfc/rfc7386.html) specification.\n",
    "\n",
    "in this demo we will be changing the ID of the STAC collection as an example."
   ]
  },
  {
   "cell_type": "code",
   "execution_count": null,
   "metadata": {},
   "outputs": [],
   "source": [
    "import openeo\n",
    "\n",
    "# Connect to the openEO backend and authenticate with EGI Check-In\n",
    "\n",
    "connection = openeo.connect(\"https://openeo.eodc.eu/openeo/1.2.0\")\n",
    "connection = connection.authenticate_oidc(provider_id=\"egi\")"
   ]
  },
  {
   "cell_type": "markdown",
   "metadata": {},
   "source": [
    "## Changes\n",
    "\n",
    "In order to change the collection id of the saved stac resource, we have to call the stac_modify process after save_result.\n",
    "\n",
    "The stac_modify process has 2 arguments: \"data\", which takes in the stac resource that gets returned by save_result and \"changes\", which takes in the changes we want to apply to the stac resource as a dictionary.\n",
    "\n",
    "The changes are then applied according to the [RFC 7386: JSON Merge Patch](https://www.rfc-editor.org/rfc/rfc7386.html) specification.\n",
    "\n",
    "In our case we will have to pass the following argument as \"changes\", with \"newid\" being the new id we assign for this collection."
   ]
  },
  {
   "cell_type": "code",
   "execution_count": null,
   "metadata": {},
   "outputs": [],
   "source": [
    "CHANGES = {\"id\": \"newid\"}\n",
    "\n",
    "WORKSPACE_NAME = \"\""
   ]
  },
  {
   "cell_type": "code",
   "execution_count": null,
   "metadata": {},
   "outputs": [],
   "source": [
    "from openeo.rest.datacube import THIS\n",
    "\n",
    "cube = connection.load_collection(collection_id=\"boa_sentinel_2\", spatial_extent={\n",
    "          \"west\": 16.156771491786476,\n",
    "          \"east\": 16.59018048465475,\n",
    "          \"south\": 48.08419286799747,\n",
    "          \"north\": 48.34670064966687\n",
    "        }, temporal_extent=[\n",
    "          \"2019-01-01T00:00:00Z\",\n",
    "          \"2019-01-31T00:00:00Z\"\n",
    "        ],\n",
    "        bands=[\n",
    "          \"B02\"\n",
    "        ])\n",
    "\n",
    "result = cube.save_result()\\\n",
    "  .process(\"stac_modify\", arguments={\"changes\" : CHANGES}, data=THIS)\\\n",
    "  .process(\"export_workspace\", arguments={\"workspace\": WORKSPACE_NAME, \"merge\": None}, data=THIS)\n"
   ]
  },
  {
   "cell_type": "markdown",
   "metadata": {},
   "source": [
    "Optionally you can print the process graph here."
   ]
  },
  {
   "cell_type": "code",
   "execution_count": null,
   "metadata": {},
   "outputs": [],
   "source": [
    "result.print_json()"
   ]
  },
  {
   "cell_type": "markdown",
   "metadata": {},
   "source": [
    "Run this to start the job"
   ]
  },
  {
   "cell_type": "code",
   "execution_count": null,
   "metadata": {},
   "outputs": [],
   "source": [
    "job = result.create_job()\n",
    "\n",
    "job.start()"
   ]
  },
  {
   "cell_type": "markdown",
   "metadata": {},
   "source": [
    "Run this to check on your jobs status."
   ]
  },
  {
   "cell_type": "code",
   "execution_count": null,
   "metadata": {},
   "outputs": [],
   "source": [
    "job"
   ]
  },
  {
   "cell_type": "markdown",
   "metadata": {},
   "source": [
    "## Check new ID\n",
    "\n",
    "Now you can check the STAC collection from your workspace using the workspace adapter to see the new ID."
   ]
  },
  {
   "cell_type": "code",
   "execution_count": null,
   "metadata": {},
   "outputs": [],
   "source": [
    "from eodc.workspace import CephAdapter, EODC_CEPH_URL\n",
    "\n",
    "# Set these variables to your own.\n",
    "\n",
    "S3_ENDPOINT = EODC_CEPH_URL\n",
    "S3_ACCESS_KEY = \"\"\n",
    "S3_SECRET_KEY = \"\"\n",
    "\n",
    "adapter: CephAdapter = CephAdapter(S3_ENDPOINT, S3_ACCESS_KEY, S3_SECRET_KEY)\n",
    "\n",
    "collections = adapter.list_stac_collections(WORKSPACE_NAME)\n",
    "\n",
    "collections"
   ]
  }
 ],
 "metadata": {
  "kernelspec": {
   "display_name": ".venv",
   "language": "python",
   "name": "python3"
  },
  "language_info": {
   "codemirror_mode": {
    "name": "ipython",
    "version": 3
   },
   "file_extension": ".py",
   "mimetype": "text/x-python",
   "name": "python",
   "nbconvert_exporter": "python",
   "pygments_lexer": "ipython3",
   "version": "3.10.12"
  }
 },
 "nbformat": 4,
 "nbformat_minor": 2
}
