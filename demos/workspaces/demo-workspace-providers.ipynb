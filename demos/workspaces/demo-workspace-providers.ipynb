{
 "cells": [
  {
   "cell_type": "markdown",
   "metadata": {},
   "source": [
    "## Workspace Providers\n",
    "\n",
    "Workspace Providers are the name of the different underlying object-storage types that are supported by any given backend.\n",
    "\n",
    "To access a list of supported workspace providers, just call the /workspace_providers endpoint. The information in this\n",
    "list also contains the formatting of parameters used when registering a workspace of the given type.\n"
   ]
  },
  {
   "cell_type": "code",
   "execution_count": null,
   "metadata": {},
   "outputs": [],
   "source": [
    "import json\n",
    "import requests\n",
    "\n",
    "response = requests.get(\n",
    "    url=f\"https://openeo.eodc.eu/openeo/1.2.0/workspace_providers\",\n",
    ")\n",
    "\n",
    "\n",
    "print(json.dumps(json.loads(response.content.decode()), indent=4, sort_keys=True))"
   ]
  }
 ],
 "metadata": {
  "kernelspec": {
   "display_name": ".venv",
   "language": "python",
   "name": "python3"
  },
  "language_info": {
   "codemirror_mode": {
    "name": "ipython",
    "version": 3
   },
   "file_extension": ".py",
   "mimetype": "text/x-python",
   "name": "python",
   "nbconvert_exporter": "python",
   "pygments_lexer": "ipython3",
   "version": "3.11.0rc1"
  }
 },
 "nbformat": 4,
 "nbformat_minor": 2
}
