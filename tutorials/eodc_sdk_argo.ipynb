{
 "cells": [
  {
   "cell_type": "code",
   "execution_count": null,
   "metadata": {},
   "outputs": [],
   "source": [
    "import eodc"
   ]
  },
  {
   "cell_type": "markdown",
   "metadata": {},
   "source": [
    "## Demo Argo Workflow - Submit Custom"
   ]
  },
  {
   "cell_type": "code",
   "execution_count": null,
   "metadata": {},
   "outputs": [],
   "source": [
    "from eodc.settings import settings\n",
    "\n",
    "settings.FAAS_URL =\"https://services.eodc.eu/workflows/\"\n",
    "settings.NAMESPACE = \"default\"\n",
    "settings.ARGO_WORKFLOWS_TOKEN = \"\""
   ]
  },
  {
   "cell_type": "code",
   "execution_count": null,
   "metadata": {},
   "outputs": [],
   "source": [
    "service = eodc.faas.CustomWorkflow(\n",
    "    processor_details=eodc.faas.FaasProcessor.custom\n",
    ")"
   ]
  },
  {
   "cell_type": "code",
   "execution_count": null,
   "metadata": {},
   "outputs": [],
   "source": [
    "from hera.workflows import Container, Parameter, Step, Steps, Workflow, WorkflowsService\n",
    "\n",
    "def hello(service: WorkflowsService):\n",
    "    with Workflow(\n",
    "        workflows_service=service,\n",
    "        namespace=service.namespace,\n",
    "        generate_name=\"steps-\",\n",
    "        entrypoint=\"hello-hello-hello\",\n",
    "    ) as w:\n",
    "        print_message = Container(\n",
    "            name=\"print-message\",\n",
    "            image=\"busybox\",\n",
    "            command=[\"echo\"],\n",
    "        )\n",
    "\n",
    "        with Steps(name=\"hello-hello-hello\") as s:\n",
    "            Step(\n",
    "                name=\"hello1\",\n",
    "                template=print_message,\n",
    "                arguments=[Parameter(name=\"message\", value=\"hello1\")],\n",
    "            )\n",
    "\n",
    "            with s.parallel():\n",
    "                Step(\n",
    "                    name=\"hello2a\",\n",
    "                    template=print_message,\n",
    "                    arguments=[Parameter(name=\"message\", value=\"hello2a\")],\n",
    "                )\n",
    "                Step(\n",
    "                    name=\"hello2b\",\n",
    "                    template=print_message,\n",
    "                    arguments=[Parameter(name=\"message\", value=\"hello2b\")],\n",
    "                )\n",
    "    return w"
   ]
  },
  {
   "cell_type": "code",
   "execution_count": null,
   "metadata": {},
   "outputs": [],
   "source": [
    "name = service.submit_workflow(\n",
    "    workflow=hello(service.workflows_service)\n",
    ")"
   ]
  },
  {
   "cell_type": "code",
   "execution_count": null,
   "metadata": {},
   "outputs": [],
   "source": [
    "service.get_logs(name)"
   ]
  },
  {
   "cell_type": "code",
   "execution_count": null,
   "metadata": {},
   "outputs": [],
   "source": []
  }
 ],
 "metadata": {
  "kernelspec": {
   "display_name": ".venv",
   "language": "python",
   "name": "python3"
  },
  "language_info": {
   "codemirror_mode": {
    "name": "ipython",
    "version": 3
   },
   "file_extension": ".py",
   "mimetype": "text/x-python",
   "name": "python",
   "nbconvert_exporter": "python",
   "pygments_lexer": "ipython3",
   "version": "3.11.6"
  }
 },
 "nbformat": 4,
 "nbformat_minor": 2
}
