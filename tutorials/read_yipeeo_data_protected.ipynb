{
 "cells": [
  {
   "cell_type": "markdown",
   "metadata": {},
   "source": [
    "## Connect to OGC API - Features service\n",
    "\n",
    "The YIPEEO vector data is exposed as [OGC API\n",
    "features](https://ogcapi.ogc.org/features/) accessible via\n",
    "[https://features.dev.services.eodc.eu/].\n",
    "\n",
    "Available YIPEEO data:\n",
    "- yipeeo_yield_fl - Yield data at field level. - **protected**\n",
    "- yipeeo_yield_nut2 - Yield data at NUTS2 scale. - public\n",
    "\n",
    "The yipeeo_yield_fl data is protected and only accessible using an EODC account.\n",
    "This tutorial demonstates the use of the OGC API - Features making use to the\n",
    "[owslib](https://owslib.readthedocs.io/en/latest/index.html) Python client and\n",
    "the [EODC SDK](https://pypi.org/project/eodc/) for authentication."
   ]
  },
  {
   "cell_type": "code",
   "execution_count": 1,
   "metadata": {},
   "outputs": [],
   "source": [
    "from rich.console import Console\n",
    "\n",
    "# EODC SDK\n",
    "from eodc.auth import DaskOIDC\n",
    "\n",
    "# OWSLIB\n",
    "from owslib.ogcapi.features import Features\n",
    "\n",
    "# EODC OGC API URL\n",
    "EODC_OGCAPI_URL = 'https://features.dev.services.eodc.eu/'\n",
    "\n",
    "console = Console()"
   ]
  },
  {
   "cell_type": "markdown",
   "metadata": {},
   "source": [
    "## Without Authentication\n",
    "\n",
    "Without Authentication, we can still list all available feature collections, as\n",
    "well as all features from collections which are not protected. But we are not\n",
    "able to read features from the protected collection 'yipeeo_yield_fl'"
   ]
  },
  {
   "cell_type": "code",
   "execution_count": 2,
   "metadata": {},
   "outputs": [
    {
     "data": {
      "text/html": [
       "<pre style=\"white-space:pre;overflow-x:auto;line-height:normal;font-family:Menlo,'DejaVu Sans Mono',consolas,'Courier New',monospace\"><span style=\"font-weight: bold\">[</span>\n",
       "    <span style=\"color: #008000; text-decoration-color: #008000\">'adriatic_vessels'</span>,\n",
       "    <span style=\"color: #008000; text-decoration-color: #008000\">'Vlbg_EGMS_L3_E'</span>,\n",
       "    <span style=\"color: #008000; text-decoration-color: #008000\">'Vlbg_EGMS_L3_U'</span>,\n",
       "    <span style=\"color: #008000; text-decoration-color: #008000\">'STATISTIK_AUSTRIA_DSR'</span>,\n",
       "    <span style=\"color: #008000; text-decoration-color: #008000\">'yipeeo_yield_fl'</span>,\n",
       "    <span style=\"color: #008000; text-decoration-color: #008000\">'yipeeo_yield_nut2'</span>,\n",
       "    <span style=\"color: #008000; text-decoration-color: #008000\">'world_administrative_boundaries'</span>\n",
       "<span style=\"font-weight: bold\">]</span>\n",
       "</pre>\n"
      ],
      "text/plain": [
       "\u001b[1m[\u001b[0m\n",
       "    \u001b[32m'adriatic_vessels'\u001b[0m,\n",
       "    \u001b[32m'Vlbg_EGMS_L3_E'\u001b[0m,\n",
       "    \u001b[32m'Vlbg_EGMS_L3_U'\u001b[0m,\n",
       "    \u001b[32m'STATISTIK_AUSTRIA_DSR'\u001b[0m,\n",
       "    \u001b[32m'yipeeo_yield_fl'\u001b[0m,\n",
       "    \u001b[32m'yipeeo_yield_nut2'\u001b[0m,\n",
       "    \u001b[32m'world_administrative_boundaries'\u001b[0m\n",
       "\u001b[1m]\u001b[0m\n"
      ]
     },
     "metadata": {},
     "output_type": "display_data"
    }
   ],
   "source": [
    "# create eodc_ogcapi object without authentication header\n",
    "eodc_ogcapi = Features(EODC_OGCAPI_URL)\n",
    "feature_collections = eodc_ogcapi.feature_collections()\n",
    "console.print(feature_collections)"
   ]
  },
  {
   "cell_type": "code",
   "execution_count": 5,
   "metadata": {},
   "outputs": [
    {
     "ename": "RuntimeError",
     "evalue": "<html>\r\n<head><title>401 Authorization Required</title></head>\r\n<body>\r\n<center><h1>401 Authorization Required</h1></center>\r\n<hr><center>openresty</center>\r\n<p><em>Powered by <a href=\"https://apisix.apache.org/\">APISIX</a>.</em></p></body>\r\n</html>\r\n",
     "output_type": "error",
     "traceback": [
      "\u001b[0;31m---------------------------------------------------------------------------\u001b[0m",
      "\u001b[0;31mRuntimeError\u001b[0m                              Traceback (most recent call last)",
      "Cell \u001b[0;32mIn[5], line 4\u001b[0m\n\u001b[1;32m      1\u001b[0m collection_id \u001b[38;5;241m=\u001b[39m \u001b[38;5;124m'\u001b[39m\u001b[38;5;124myipeeo_yield_fl\u001b[39m\u001b[38;5;124m'\u001b[39m\n\u001b[1;32m      3\u001b[0m \u001b[38;5;66;03m# this will fail with an '401 Authorization required' error code\u001b[39;00m\n\u001b[0;32m----> 4\u001b[0m items \u001b[38;5;241m=\u001b[39m \u001b[43meodc_ogcapi\u001b[49m\u001b[38;5;241;43m.\u001b[39;49m\u001b[43mcollection_items\u001b[49m\u001b[43m(\u001b[49m\u001b[43mcollection_id\u001b[49m\u001b[43m)\u001b[49m\n\u001b[1;32m      5\u001b[0m console\u001b[38;5;241m.\u001b[39mprint(items[\u001b[38;5;124m'\u001b[39m\u001b[38;5;124mfeatures\u001b[39m\u001b[38;5;124m'\u001b[39m][\u001b[38;5;241m0\u001b[39m][\u001b[38;5;124m'\u001b[39m\u001b[38;5;124mproperties\u001b[39m\u001b[38;5;124m'\u001b[39m])\n",
      "File \u001b[0;32m~/miniconda3/envs/eodc_cluster/lib/python3.11/site-packages/owslib/ogcapi/features.py:80\u001b[0m, in \u001b[0;36mFeatures.collection_items\u001b[0;34m(self, collection_id, **kwargs)\u001b[0m\n\u001b[1;32m     78\u001b[0m \u001b[38;5;28;01melse\u001b[39;00m:\n\u001b[1;32m     79\u001b[0m     path \u001b[38;5;241m=\u001b[39m \u001b[38;5;124mf\u001b[39m\u001b[38;5;124m'\u001b[39m\u001b[38;5;124mcollections/\u001b[39m\u001b[38;5;132;01m{\u001b[39;00mcollection_id\u001b[38;5;132;01m}\u001b[39;00m\u001b[38;5;124m/items\u001b[39m\u001b[38;5;124m'\u001b[39m\n\u001b[0;32m---> 80\u001b[0m     \u001b[38;5;28;01mreturn\u001b[39;00m \u001b[38;5;28;43mself\u001b[39;49m\u001b[38;5;241;43m.\u001b[39;49m\u001b[43m_request\u001b[49m\u001b[43m(\u001b[49m\u001b[43mpath\u001b[49m\u001b[38;5;241;43m=\u001b[39;49m\u001b[43mpath\u001b[49m\u001b[43m,\u001b[49m\u001b[43m \u001b[49m\u001b[43mkwargs\u001b[49m\u001b[38;5;241;43m=\u001b[39;49m\u001b[43mkwargs\u001b[49m\u001b[43m)\u001b[49m\n",
      "File \u001b[0;32m~/miniconda3/envs/eodc_cluster/lib/python3.11/site-packages/owslib/ogcapi/__init__.py:188\u001b[0m, in \u001b[0;36mAPI._request\u001b[0;34m(self, method, path, data, as_dict, kwargs)\u001b[0m\n\u001b[1;32m    185\u001b[0m LOGGER\u001b[38;5;241m.\u001b[39mdebug(\u001b[38;5;124mf\u001b[39m\u001b[38;5;124m'\u001b[39m\u001b[38;5;124mResponse status code: \u001b[39m\u001b[38;5;132;01m{\u001b[39;00mresponse\u001b[38;5;241m.\u001b[39mstatus_code\u001b[38;5;132;01m}\u001b[39;00m\u001b[38;5;124m'\u001b[39m)\n\u001b[1;32m    187\u001b[0m \u001b[38;5;28;01mif\u001b[39;00m \u001b[38;5;129;01mnot\u001b[39;00m response:\n\u001b[0;32m--> 188\u001b[0m     \u001b[38;5;28;01mraise\u001b[39;00m \u001b[38;5;167;01mRuntimeError\u001b[39;00m(response\u001b[38;5;241m.\u001b[39mtext)\n\u001b[1;32m    190\u001b[0m \u001b[38;5;28mself\u001b[39m\u001b[38;5;241m.\u001b[39mrequest \u001b[38;5;241m=\u001b[39m response\u001b[38;5;241m.\u001b[39murl\n\u001b[1;32m    192\u001b[0m \u001b[38;5;28;01mif\u001b[39;00m as_dict:\n",
      "\u001b[0;31mRuntimeError\u001b[0m: <html>\r\n<head><title>401 Authorization Required</title></head>\r\n<body>\r\n<center><h1>401 Authorization Required</h1></center>\r\n<hr><center>openresty</center>\r\n<p><em>Powered by <a href=\"https://apisix.apache.org/\">APISIX</a>.</em></p></body>\r\n</html>\r\n"
     ]
    }
   ],
   "source": [
    "collection_id = 'yipeeo_yield_fl'\n",
    "\n",
    "# this will fail with an '401 Authorization required' error code\n",
    "items = eodc_ogcapi.collection_items(collection_id)\n",
    "console.print(items['features'][0]['properties'])"
   ]
  },
  {
   "cell_type": "markdown",
   "metadata": {},
   "source": [
    "## With Authentication\n",
    "\n",
    "To read features from 'yipeeo_yield_fl', we need to authenticate with our EODC\n",
    "credentials. A password prompt will be opened automatically.\n",
    "\n",
    "After sucessful authentication, the access token will be used as HTTP header for\n",
    "all future requests using OWSLIB. "
   ]
  },
  {
   "cell_type": "code",
   "execution_count": 6,
   "metadata": {},
   "outputs": [],
   "source": [
    "username = \"tobias.stachl@eodc.eu\"\n",
    "conn = DaskOIDC(username)\n",
    "\n",
    "headers = {\n",
    "    \"Authorization\": f\"Bearer {conn.token['access_token']}\"\n",
    "}\n",
    "\n",
    "# add HTTP headers to eodc_ogcapi object\n",
    "eodc_ogcapi = Features(EODC_OGCAPI_URL, headers=headers)"
   ]
  },
  {
   "cell_type": "code",
   "execution_count": 7,
   "metadata": {},
   "outputs": [
    {
     "data": {
      "text/html": [
       "<pre style=\"white-space:pre;overflow-x:auto;line-height:normal;font-family:Menlo,'DejaVu Sans Mono',consolas,'Courier New',monospace\"><span style=\"font-weight: bold\">{</span><span style=\"color: #008000; text-decoration-color: #008000\">'crop_type'</span>: <span style=\"color: #008000; text-decoration-color: #008000\">'spring barley'</span>, <span style=\"color: #008000; text-decoration-color: #008000\">'country_code'</span>: <span style=\"color: #008000; text-decoration-color: #008000\">'cz '</span>, <span style=\"color: #008000; text-decoration-color: #008000\">'yield'</span>: <span style=\"color: #800080; text-decoration-color: #800080; font-style: italic\">None</span>, <span style=\"color: #008000; text-decoration-color: #008000\">'c_year'</span>: <span style=\"color: #008080; text-decoration-color: #008080; font-weight: bold\">2017</span>, <span style=\"color: #008000; text-decoration-color: #008000\">'crop_id'</span>: <span style=\"color: #008000; text-decoration-color: #008000\">'C1320'</span><span style=\"font-weight: bold\">}</span>\n",
       "</pre>\n"
      ],
      "text/plain": [
       "\u001b[1m{\u001b[0m\u001b[32m'crop_type'\u001b[0m: \u001b[32m'spring barley'\u001b[0m, \u001b[32m'country_code'\u001b[0m: \u001b[32m'cz '\u001b[0m, \u001b[32m'yield'\u001b[0m: \u001b[3;35mNone\u001b[0m, \u001b[32m'c_year'\u001b[0m: \u001b[1;36m2017\u001b[0m, \u001b[32m'crop_id'\u001b[0m: \u001b[32m'C1320'\u001b[0m\u001b[1m}\u001b[0m\n"
      ]
     },
     "metadata": {},
     "output_type": "display_data"
    }
   ],
   "source": [
    "collection_id = 'yipeeo_yield_fl'\n",
    "items = eodc_ogcapi.collection_items(collection_id)\n",
    "console.print(items['features'][0]['properties'])"
   ]
  }
 ],
 "metadata": {
  "kernelspec": {
   "display_name": ".venv",
   "language": "python",
   "name": "python3"
  },
  "language_info": {
   "codemirror_mode": {
    "name": "ipython",
    "version": 3
   },
   "file_extension": ".py",
   "mimetype": "text/x-python",
   "name": "python",
   "nbconvert_exporter": "python",
   "pygments_lexer": "ipython3",
   "version": "3.11.9"
  }
 },
 "nbformat": 4,
 "nbformat_minor": 2
}
