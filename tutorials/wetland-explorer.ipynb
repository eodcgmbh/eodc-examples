{
 "cells": [
  {
   "cell_type": "markdown",
   "metadata": {},
   "source": [
    "### WETLAND\n"
   ]
  },
  {
   "cell_type": "code",
   "execution_count": 1,
   "metadata": {},
   "outputs": [],
   "source": [
    "# %matplotlib widget\n",
    "import os\n",
    "from datetime import datetime\n",
    "import numpy as np\n",
    "import xarray as xr\n",
    "import matplotlib.pyplot as plt\n",
    "from ipywidgets import interact, widgets\n",
    "from pystac_client import Client\n",
    "\n",
    "from utils import download_file"
   ]
  },
  {
   "cell_type": "code",
   "execution_count": 2,
   "metadata": {},
   "outputs": [],
   "source": [
    "username = \n",
    "password = "
   ]
  },
  {
   "cell_type": "code",
   "execution_count": 3,
   "metadata": {},
   "outputs": [],
   "source": [
    "def stac_search(collection, bbox):\n",
    "    client = Client.open('https://dev.stac.eodc.eu/api/v1')\n",
    "    results = client.search(collections=collection,\n",
    "        max_items=6,\n",
    "        bbox = bbox\n",
    "    )\n",
    "    result_items = list(results.items())\n",
    "    return result_items"
   ]
  },
  {
   "cell_type": "code",
   "execution_count": 4,
   "metadata": {},
   "outputs": [],
   "source": [
    "bbox_E052N015 = [16.4, 47.7, 16.5, 47.8]\n",
    "bbox_E053N015 = [17.4, 47.7, 17.5, 47.8]"
   ]
  },
  {
   "cell_type": "code",
   "execution_count": 5,
   "metadata": {},
   "outputs": [],
   "source": [
    "collection = \"Sentinel-1_Lacken_Extent\" \n",
    "filestart = \"estimation-openwater\""
   ]
  },
  {
   "cell_type": "code",
   "execution_count": 6,
   "metadata": {},
   "outputs": [
    {
     "data": {
      "text/plain": [
       "[<Item id=EU010M_E052N015T1_20221231_WETLAND>,\n",
       " <Item id=EU010M_E052N015T1_20221219_WETLAND>,\n",
       " <Item id=EU010M_E052N015T1_20221207_WETLAND>,\n",
       " <Item id=EU010M_E052N015T1_20221125_WETLAND>,\n",
       " <Item id=EU010M_E052N015T1_20221113_WETLAND>,\n",
       " <Item id=EU010M_E052N015T1_20221101_WETLAND>]"
      ]
     },
     "execution_count": 6,
     "metadata": {},
     "output_type": "execute_result"
    }
   ],
   "source": [
    "stac_items = stac_search(collection, bbox_E052N015)\n",
    "\n",
    "stac_items"
   ]
  },
  {
   "cell_type": "code",
   "execution_count": 7,
   "metadata": {},
   "outputs": [
    {
     "name": "stdout",
     "output_type": "stream",
     "text": [
      "estimation-openwater_20221231_20221231___E052N015T1_EU010M_V1M0R1_interface-wetlandservice_TUWIEN.tif\n",
      "estimation-openwater_20221219_20221219___E052N015T1_EU010M_V1M0R1_interface-wetlandservice_TUWIEN.tif\n",
      "estimation-openwater_20221207_20221207___E052N015T1_EU010M_V1M0R1_interface-wetlandservice_TUWIEN.tif\n",
      "estimation-openwater_20221125_20221125___E052N015T1_EU010M_V1M0R1_interface-wetlandservice_TUWIEN.tif\n",
      "estimation-openwater_20221113_20221113___E052N015T1_EU010M_V1M0R1_interface-wetlandservice_TUWIEN.tif\n",
      "estimation-openwater_20221101_20221101___E052N015T1_EU010M_V1M0R1_interface-wetlandservice_TUWIEN.tif\n"
     ]
    }
   ],
   "source": [
    "for item in stac_items:\n",
    "    url = item.assets[\"image\"].href\n",
    "    file = download_file(url, username, password)\n",
    "    print(file)\n"
   ]
  },
  {
   "cell_type": "code",
   "execution_count": 8,
   "metadata": {},
   "outputs": [
    {
     "data": {
      "application/vnd.jupyter.widget-view+json": {
       "model_id": "0a1b6523441a42edaf4f7e5213d66235",
       "version_major": 2,
       "version_minor": 0
      },
      "text/plain": [
       "interactive(children=(IntSlider(value=0, description='t', max=5), Output()), _dom_classes=('widget-interact',)…"
      ]
     },
     "metadata": {},
     "output_type": "display_data"
    },
    {
     "data": {
      "text/plain": [
       "<function __main__.wetland(t)>"
      ]
     },
     "execution_count": 8,
     "metadata": {},
     "output_type": "execute_result"
    }
   ],
   "source": [
    "files = [i for i in os.listdir() if i.startswith(filestart) and i.endswith(\".tif\")]\n",
    "\n",
    "dataset = []\n",
    "for file in files:\n",
    "    data = xr.open_dataset(\n",
    "        file, chunks=\"auto\",\n",
    "        ).band_data\n",
    "    data[\"t\"] = file.split(\"_\")[2]\n",
    "    dataset.append(data)\n",
    "\n",
    "data = xr.concat(dataset, dim=\"t\")\n",
    "data = data.sortby(\"t\")\n",
    "\n",
    "collection_name = collection.replace(\"_\", \" \")\n",
    "\n",
    "def wetland(t):\n",
    "    plt.figure(figsize=(8,6))\n",
    "    plt.imshow(data.isel(t=t, band=0).sel(y=slice(1584995, 1548005), x=slice(5280005,5299995)), cmap=\"Blues\")\n",
    "    time = datetime.strptime(data['t'].values[t], \"%Y%m%d\").strftime( \"%Y-%m-%d\")\n",
    "    plt.title(f\"{collection_name} {time}\")\n",
    "    plt.axis(\"off\")\n",
    "    plt.show()\n",
    " \n",
    "interact(\n",
    "    wetland,\n",
    "    t = widgets.IntSlider(min = 0, max = 5, value = 0),\n",
    ")"
   ]
  },
  {
   "cell_type": "code",
   "execution_count": 9,
   "metadata": {},
   "outputs": [],
   "source": [
    "collection = \"Sentinel-1_Reed_Extent\"\n",
    "filestart = \"prediction-inundated-vegetation\""
   ]
  },
  {
   "cell_type": "code",
   "execution_count": 10,
   "metadata": {},
   "outputs": [
    {
     "name": "stdout",
     "output_type": "stream",
     "text": [
      "prediction-inundated-vegetation_20210101_20210101___E052N015T1_EU010M_V1M0R1_interface-wetlandservice_TUWIEN.tif\n",
      "prediction-inundated-vegetation_20200101_20200101___E052N015T1_EU010M_V1M0R1_interface-wetlandservice_TUWIEN.tif\n",
      "prediction-inundated-vegetation_20190101_20190101___E052N015T1_EU010M_V1M0R1_interface-wetlandservice_TUWIEN.tif\n",
      "prediction-inundated-vegetation_20180101_20180101___E052N015T1_EU010M_V1M0R1_interface-wetlandservice_TUWIEN.tif\n",
      "prediction-inundated-vegetation_20170101_20170101___E052N015T1_EU010M_V1M0R1_interface-wetlandservice_TUWIEN.tif\n",
      "prediction-inundated-vegetation_20160101_20160101___E052N015T1_EU010M_V1M0R1_interface-wetlandservice_TUWIEN.tif\n"
     ]
    }
   ],
   "source": [
    "stac_items = stac_search(collection, bbox_E052N015)\n",
    "\n",
    "for item in stac_items:\n",
    "    url = item.assets[\"image\"].href\n",
    "    file = download_file(url, username, password)\n",
    "    print(file)"
   ]
  },
  {
   "cell_type": "code",
   "execution_count": 11,
   "metadata": {},
   "outputs": [
    {
     "data": {
      "application/vnd.jupyter.widget-view+json": {
       "model_id": "3758301b564043a5b6f1b9f24079a8a7",
       "version_major": 2,
       "version_minor": 0
      },
      "text/plain": [
       "interactive(children=(IntSlider(value=0, description='t', max=5), Output()), _dom_classes=('widget-interact',)…"
      ]
     },
     "metadata": {},
     "output_type": "display_data"
    },
    {
     "data": {
      "text/plain": [
       "<function __main__.wetland(t)>"
      ]
     },
     "execution_count": 11,
     "metadata": {},
     "output_type": "execute_result"
    }
   ],
   "source": [
    "files = [i for i in os.listdir() if i.startswith(filestart) and i.endswith(\".tif\")]\n",
    "\n",
    "dataset = []\n",
    "for file in files:\n",
    "    data = xr.open_dataset(\n",
    "        file, chunks=\"auto\",\n",
    "        ).band_data\n",
    "    data[\"t\"] = file.split(\"_\")[2]\n",
    "    dataset.append(data)\n",
    "\n",
    "data = xr.concat(dataset, dim=\"t\")\n",
    "data = data.sortby(\"t\")\n",
    "\n",
    "collection_name = collection.replace(\"_\", \" \")\n",
    "\n",
    "def wetland(t):\n",
    "    plt.figure(figsize=(8,6))\n",
    "    plt.imshow(data.isel(t=t, band=0).sel(y=slice(1584995, 1548005), x=slice(5280005,5299995)), cmap=\"Blues\")\n",
    "    time = datetime.strptime(data['t'].values[t], \"%Y%m%d\").strftime( \"%Y-%m-%d\")\n",
    "    plt.title(f\"{collection_name} {time}\")\n",
    "    plt.axis(\"off\")\n",
    "    plt.show()\n",
    " \n",
    "interact(\n",
    "    wetland,\n",
    "    t = widgets.IntSlider(min = 0, max = 5, value = 0),\n",
    ")"
   ]
  },
  {
   "cell_type": "code",
   "execution_count": null,
   "metadata": {},
   "outputs": [],
   "source": []
  }
 ],
 "metadata": {
  "kernelspec": {
   "display_name": ".venv",
   "language": "python",
   "name": "python3"
  },
  "language_info": {
   "codemirror_mode": {
    "name": "ipython",
    "version": 3
   },
   "file_extension": ".py",
   "mimetype": "text/x-python",
   "name": "python",
   "nbconvert_exporter": "python",
   "pygments_lexer": "ipython3",
   "version": "3.11.0"
  }
 },
 "nbformat": 4,
 "nbformat_minor": 2
}
